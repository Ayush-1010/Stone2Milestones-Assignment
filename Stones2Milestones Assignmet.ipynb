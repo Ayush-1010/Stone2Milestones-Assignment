{
 "cells": [
  {
   "cell_type": "markdown",
   "metadata": {},
   "source": [
    "#  Stones2Milestones\n",
    "\n",
    "## Internship Assignment \n",
    "\n",
    "Q). We are sharing data for our live demo classes right from parent showing interest to their\n",
    "conversion (Parent bought the live classes pack).\n",
    "\n",
    "Following are the details of the data:\n",
    "1. Interested Users – Users (child) who have showed interest in joining the demo classes.\n",
    "2. Booked Users – Users who booked a trail class on our portal. There are cases where duplicate trails are possible, count both.\n",
    "3. Trainers – Trainers assigned to Trail Batch.\n",
    "4. Subscription Bought – Details of Sales that are made. Use only those cases where sale value is greater than equal to 499/-.\n",
    "\n",
    "Using these data, create tables to track the following:\n",
    "1. Sales conversion with respect to Trainers\n",
    "2. Sales conversion with respect to Time slot\n",
    "3. Sales conversion with respect to Topic\n",
    "4. Sales conversion with respect to Source (Field available in Interested Users)\n",
    "5. Sales conversion wrt grade\n",
    "6. Time taken for Sales conversion\n",
    "7. Time slot – attendance %\n",
    "\n",
    "Perform this analysis on whatever tools you are comfortable with (Excel, Google Sheets,\n",
    "Python)."
   ]
  },
  {
   "cell_type": "markdown",
   "metadata": {},
   "source": [
    "## Loading the Dataset and Libraries"
   ]
  },
  {
   "cell_type": "code",
   "execution_count": 1,
   "metadata": {},
   "outputs": [],
   "source": [
    "import numpy as np\n",
    "import pandas as pd\n",
    "import matplotlib.pyplot as plt\n",
    "import seaborn as sns\n",
    "%matplotlib inline\n",
    "import plotly\n",
    "import cufflinks\n",
    "from plotly.offline import init_notebook_mode,download_plotlyjs,iplot,plot"
   ]
  },
  {
   "cell_type": "code",
   "execution_count": 2,
   "metadata": {},
   "outputs": [
    {
     "data": {
      "text/html": [
       "        <script type=\"text/javascript\">\n",
       "        window.PlotlyConfig = {MathJaxConfig: 'local'};\n",
       "        if (window.MathJax) {MathJax.Hub.Config({SVG: {font: \"STIX-Web\"}});}\n",
       "        if (typeof require !== 'undefined') {\n",
       "        require.undef(\"plotly\");\n",
       "        requirejs.config({\n",
       "            paths: {\n",
       "                'plotly': ['https://cdn.plot.ly/plotly-latest.min']\n",
       "            }\n",
       "        });\n",
       "        require(['plotly'], function(Plotly) {\n",
       "            window._Plotly = Plotly;\n",
       "        });\n",
       "        }\n",
       "        </script>\n",
       "        "
      ]
     },
     "metadata": {},
     "output_type": "display_data"
    },
    {
     "data": {
      "text/html": [
       "        <script type=\"text/javascript\">\n",
       "        window.PlotlyConfig = {MathJaxConfig: 'local'};\n",
       "        if (window.MathJax) {MathJax.Hub.Config({SVG: {font: \"STIX-Web\"}});}\n",
       "        if (typeof require !== 'undefined') {\n",
       "        require.undef(\"plotly\");\n",
       "        requirejs.config({\n",
       "            paths: {\n",
       "                'plotly': ['https://cdn.plot.ly/plotly-latest.min']\n",
       "            }\n",
       "        });\n",
       "        require(['plotly'], function(Plotly) {\n",
       "            window._Plotly = Plotly;\n",
       "        });\n",
       "        }\n",
       "        </script>\n",
       "        "
      ]
     },
     "metadata": {},
     "output_type": "display_data"
    }
   ],
   "source": [
    "init_notebook_mode(connected=True)\n",
    "cufflinks.go_offline()"
   ]
  },
  {
   "cell_type": "code",
   "execution_count": 3,
   "metadata": {},
   "outputs": [
    {
     "data": {
      "text/html": [
       "<div>\n",
       "<style scoped>\n",
       "    .dataframe tbody tr th:only-of-type {\n",
       "        vertical-align: middle;\n",
       "    }\n",
       "\n",
       "    .dataframe tbody tr th {\n",
       "        vertical-align: top;\n",
       "    }\n",
       "\n",
       "    .dataframe thead th {\n",
       "        text-align: right;\n",
       "    }\n",
       "</style>\n",
       "<table border=\"1\" class=\"dataframe\">\n",
       "  <thead>\n",
       "    <tr style=\"text-align: right;\">\n",
       "      <th></th>\n",
       "      <th>Child name</th>\n",
       "      <th>phone</th>\n",
       "      <th>email_id</th>\n",
       "      <th>school</th>\n",
       "      <th>grade</th>\n",
       "      <th>batch_preferred</th>\n",
       "      <th>source</th>\n",
       "      <th>Submitted At</th>\n",
       "    </tr>\n",
       "  </thead>\n",
       "  <tbody>\n",
       "    <tr>\n",
       "      <th>0</th>\n",
       "      <td>CH_30001</td>\n",
       "      <td>911100221000</td>\n",
       "      <td>s2m_test_20001@tests2m.com</td>\n",
       "      <td>St.paul's school</td>\n",
       "      <td>Grade 2</td>\n",
       "      <td>Afternoon Batch (4:00 - 4:45 PM), Evening Batc...</td>\n",
       "      <td>lastchance</td>\n",
       "      <td>2020-04-16 08:46:39</td>\n",
       "    </tr>\n",
       "    <tr>\n",
       "      <th>1</th>\n",
       "      <td>CH_30002</td>\n",
       "      <td>911100221001</td>\n",
       "      <td>s2m_test_20002@tests2m.com</td>\n",
       "      <td>K L E School haveri</td>\n",
       "      <td>Grade 4</td>\n",
       "      <td>Evening Batch (6:15 - 7:00 PM), Morning Batch ...</td>\n",
       "      <td>lastchance</td>\n",
       "      <td>2020-04-16 08:47:55</td>\n",
       "    </tr>\n",
       "  </tbody>\n",
       "</table>\n",
       "</div>"
      ],
      "text/plain": [
       "  Child name         phone                    email_id               school  \\\n",
       "0   CH_30001  911100221000  s2m_test_20001@tests2m.com     St.paul's school   \n",
       "1   CH_30002  911100221001  s2m_test_20002@tests2m.com  K L E School haveri   \n",
       "\n",
       "     grade                                    batch_preferred      source  \\\n",
       "0  Grade 2  Afternoon Batch (4:00 - 4:45 PM), Evening Batc...  lastchance   \n",
       "1  Grade 4  Evening Batch (6:15 - 7:00 PM), Morning Batch ...  lastchance   \n",
       "\n",
       "         Submitted At  \n",
       "0 2020-04-16 08:46:39  \n",
       "1 2020-04-16 08:47:55  "
      ]
     },
     "execution_count": 3,
     "metadata": {},
     "output_type": "execute_result"
    }
   ],
   "source": [
    "# Method of loading multiple excel sheets in the notebook.\n",
    "\n",
    "df = pd.read_excel('assignment_data (1).xlsx',sheet_name=['Interested Users'])\n",
    "df_interested_users = pd.concat(df[frame] for frame in df.keys())\n",
    "df_interested_users.head(2)"
   ]
  },
  {
   "cell_type": "code",
   "execution_count": 4,
   "metadata": {},
   "outputs": [
    {
     "data": {
      "text/html": [
       "<div>\n",
       "<style scoped>\n",
       "    .dataframe tbody tr th:only-of-type {\n",
       "        vertical-align: middle;\n",
       "    }\n",
       "\n",
       "    .dataframe tbody tr th {\n",
       "        vertical-align: top;\n",
       "    }\n",
       "\n",
       "    .dataframe thead th {\n",
       "        text-align: right;\n",
       "    }\n",
       "</style>\n",
       "<table border=\"1\" class=\"dataframe\">\n",
       "  <thead>\n",
       "    <tr style=\"text-align: right;\">\n",
       "      <th></th>\n",
       "      <th>Invitee UUID</th>\n",
       "      <th>Batch</th>\n",
       "      <th>Enrolment Type</th>\n",
       "      <th>Child Name</th>\n",
       "      <th>Grade</th>\n",
       "      <th>School</th>\n",
       "      <th>Phone</th>\n",
       "      <th>Parent Email</th>\n",
       "      <th>Opted Start Time</th>\n",
       "      <th>Opted Start Date</th>\n",
       "      <th>Facilitator UUID</th>\n",
       "      <th>Attendance</th>\n",
       "    </tr>\n",
       "  </thead>\n",
       "  <tbody>\n",
       "    <tr>\n",
       "      <th>0</th>\n",
       "      <td>AGIV7AYTBF4ZA6SA</td>\n",
       "      <td>fREADom Trial Class - Grades 1, 2 [I] 11:15am ...</td>\n",
       "      <td>Trial</td>\n",
       "      <td>CH_31440</td>\n",
       "      <td>Grade 2</td>\n",
       "      <td>DPS</td>\n",
       "      <td>911100222445</td>\n",
       "      <td>s2m_test_21459@tests2m.com</td>\n",
       "      <td>16-04-2020 11:15:00</td>\n",
       "      <td>11:15am - Thursday, April 16, 2020</td>\n",
       "      <td>AEFDOHX57EFVUS2G</td>\n",
       "      <td>Present</td>\n",
       "    </tr>\n",
       "    <tr>\n",
       "      <th>1</th>\n",
       "      <td>HAPQZDZXDJPMFZ73</td>\n",
       "      <td>fREADom Trial Class - Grades 1, 2 [I] 11:15am ...</td>\n",
       "      <td>Trial</td>\n",
       "      <td>CH_31441</td>\n",
       "      <td>Grade 2</td>\n",
       "      <td>DPS</td>\n",
       "      <td>911100222446</td>\n",
       "      <td>s2m_test_21460@tests2m.com</td>\n",
       "      <td>16-04-2020 11:15:00</td>\n",
       "      <td>11:15am - Thursday, April 16, 2020</td>\n",
       "      <td>AEFDOHX57EFVUS2G</td>\n",
       "      <td>Present</td>\n",
       "    </tr>\n",
       "  </tbody>\n",
       "</table>\n",
       "</div>"
      ],
      "text/plain": [
       "       Invitee UUID                                              Batch  \\\n",
       "0  AGIV7AYTBF4ZA6SA  fREADom Trial Class - Grades 1, 2 [I] 11:15am ...   \n",
       "1  HAPQZDZXDJPMFZ73  fREADom Trial Class - Grades 1, 2 [I] 11:15am ...   \n",
       "\n",
       "  Enrolment Type Child Name    Grade  School         Phone  \\\n",
       "0          Trial   CH_31440  Grade 2     DPS  911100222445   \n",
       "1          Trial   CH_31441  Grade 2     DPS  911100222446   \n",
       "\n",
       "                 Parent Email     Opted Start Time  \\\n",
       "0  s2m_test_21459@tests2m.com  16-04-2020 11:15:00   \n",
       "1  s2m_test_21460@tests2m.com  16-04-2020 11:15:00   \n",
       "\n",
       "                     Opted Start Date  Facilitator UUID Attendance  \n",
       "0  11:15am - Thursday, April 16, 2020  AEFDOHX57EFVUS2G    Present  \n",
       "1  11:15am - Thursday, April 16, 2020  AEFDOHX57EFVUS2G    Present  "
      ]
     },
     "execution_count": 4,
     "metadata": {},
     "output_type": "execute_result"
    }
   ],
   "source": [
    "df = pd.read_excel('assignment_data (1).xlsx',sheet_name=['Booked Users'])\n",
    "df_booked_users = pd.concat(df[frame] for frame in df.keys())\n",
    "df_booked_users.head(2)"
   ]
  },
  {
   "cell_type": "code",
   "execution_count": 5,
   "metadata": {},
   "outputs": [
    {
     "data": {
      "text/html": [
       "<div>\n",
       "<style scoped>\n",
       "    .dataframe tbody tr th:only-of-type {\n",
       "        vertical-align: middle;\n",
       "    }\n",
       "\n",
       "    .dataframe tbody tr th {\n",
       "        vertical-align: top;\n",
       "    }\n",
       "\n",
       "    .dataframe thead th {\n",
       "        text-align: right;\n",
       "    }\n",
       "</style>\n",
       "<table border=\"1\" class=\"dataframe\">\n",
       "  <thead>\n",
       "    <tr style=\"text-align: right;\">\n",
       "      <th></th>\n",
       "      <th>Trainer Name</th>\n",
       "      <th>Date</th>\n",
       "      <th>Timing</th>\n",
       "      <th>Grade</th>\n",
       "      <th>Batch size</th>\n",
       "      <th>Batch count</th>\n",
       "      <th>Batch</th>\n",
       "      <th>Topics</th>\n",
       "    </tr>\n",
       "  </thead>\n",
       "  <tbody>\n",
       "    <tr>\n",
       "      <th>0</th>\n",
       "      <td>FAC_5001</td>\n",
       "      <td>16 April Thursday</td>\n",
       "      <td>11.15 am - 12 noon</td>\n",
       "      <td>Grade 1,2</td>\n",
       "      <td>group</td>\n",
       "      <td>9.0</td>\n",
       "      <td>trial I</td>\n",
       "      <td>Rocking with rhymes</td>\n",
       "    </tr>\n",
       "    <tr>\n",
       "      <th>1</th>\n",
       "      <td>FAC_5002</td>\n",
       "      <td>16 April Thursday</td>\n",
       "      <td>11.15 am - 12 noon</td>\n",
       "      <td>Grade 3,4</td>\n",
       "      <td>group</td>\n",
       "      <td>9.0</td>\n",
       "      <td>trial I</td>\n",
       "      <td>In my mind's eye</td>\n",
       "    </tr>\n",
       "  </tbody>\n",
       "</table>\n",
       "</div>"
      ],
      "text/plain": [
       "  Trainer Name               Date              Timing       Grade Batch size   \\\n",
       "0     FAC_5001  16 April Thursday  11.15 am - 12 noon   Grade 1,2       group   \n",
       "1     FAC_5002  16 April Thursday  11.15 am - 12 noon  Grade 3,4        group   \n",
       "\n",
       "   Batch count    Batch               Topics  \n",
       "0          9.0  trial I  Rocking with rhymes  \n",
       "1          9.0  trial I     In my mind's eye  "
      ]
     },
     "execution_count": 5,
     "metadata": {},
     "output_type": "execute_result"
    }
   ],
   "source": [
    "df = pd.read_excel('assignment_data (1).xlsx',sheet_name=['Trainers'])\n",
    "df_trainers = pd.concat(df[frame] for frame in df.keys())\n",
    "df_trainers.head(2)"
   ]
  },
  {
   "cell_type": "code",
   "execution_count": 6,
   "metadata": {},
   "outputs": [
    {
     "data": {
      "text/html": [
       "<div>\n",
       "<style scoped>\n",
       "    .dataframe tbody tr th:only-of-type {\n",
       "        vertical-align: middle;\n",
       "    }\n",
       "\n",
       "    .dataframe tbody tr th {\n",
       "        vertical-align: top;\n",
       "    }\n",
       "\n",
       "    .dataframe thead th {\n",
       "        text-align: right;\n",
       "    }\n",
       "</style>\n",
       "<table border=\"1\" class=\"dataframe\">\n",
       "  <thead>\n",
       "    <tr style=\"text-align: right;\">\n",
       "      <th></th>\n",
       "      <th>Child Name</th>\n",
       "      <th>Registered Number</th>\n",
       "      <th>Registered Email ID</th>\n",
       "      <th>Payment date</th>\n",
       "      <th>Sale by</th>\n",
       "      <th>Grade</th>\n",
       "      <th>Pricing</th>\n",
       "      <th>Duration</th>\n",
       "      <th>Sessions preferred</th>\n",
       "      <th>Live session details</th>\n",
       "    </tr>\n",
       "  </thead>\n",
       "  <tbody>\n",
       "    <tr>\n",
       "      <th>0</th>\n",
       "      <td>CH_31846</td>\n",
       "      <td>9.111002e+11</td>\n",
       "      <td>s2m_test_21890@tests2m.com</td>\n",
       "      <td>16-03-2020 12:00:00 AM</td>\n",
       "      <td>SP_1001</td>\n",
       "      <td>2</td>\n",
       "      <td>199</td>\n",
       "      <td>0.5</td>\n",
       "      <td>NaN</td>\n",
       "      <td>NaN</td>\n",
       "    </tr>\n",
       "    <tr>\n",
       "      <th>1</th>\n",
       "      <td>CH_31847</td>\n",
       "      <td>9.111002e+11</td>\n",
       "      <td>NaN</td>\n",
       "      <td>16-03-2020 12:00:00 AM</td>\n",
       "      <td>SP_1002</td>\n",
       "      <td>4</td>\n",
       "      <td>199</td>\n",
       "      <td>0.5</td>\n",
       "      <td>NaN</td>\n",
       "      <td>NaN</td>\n",
       "    </tr>\n",
       "  </tbody>\n",
       "</table>\n",
       "</div>"
      ],
      "text/plain": [
       "  Child Name  Registered Number         Registered Email ID  \\\n",
       "0   CH_31846       9.111002e+11  s2m_test_21890@tests2m.com   \n",
       "1   CH_31847       9.111002e+11                         NaN   \n",
       "\n",
       "             Payment date  Sale by Grade Pricing Duration Sessions preferred  \\\n",
       "0  16-03-2020 12:00:00 AM  SP_1001     2     199      0.5                NaN   \n",
       "1  16-03-2020 12:00:00 AM  SP_1002     4     199      0.5                NaN   \n",
       "\n",
       "  Live session details  \n",
       "0                  NaN  \n",
       "1                  NaN  "
      ]
     },
     "execution_count": 6,
     "metadata": {},
     "output_type": "execute_result"
    }
   ],
   "source": [
    "df = pd.read_excel('assignment_data (1).xlsx',sheet_name=['Subscription Bought'])\n",
    "df_subscription_bought = pd.concat(df[frame] for frame in df.keys())\n",
    "df_subscription_bought.head(2)"
   ]
  },
  {
   "cell_type": "code",
   "execution_count": 7,
   "metadata": {},
   "outputs": [
    {
     "data": {
      "text/plain": [
       "Index(['Child Name', 'Registered Number', 'Registered Email ID',\n",
       "       'Payment date', 'Sale by', 'Grade', 'Pricing', 'Duration',\n",
       "       'Sessions preferred', 'Live session details'],\n",
       "      dtype='object')"
      ]
     },
     "execution_count": 7,
     "metadata": {},
     "output_type": "execute_result"
    }
   ],
   "source": [
    "# Filtering data\n",
    "\n",
    "df_subscription_bought.columns"
   ]
  },
  {
   "cell_type": "code",
   "execution_count": 8,
   "metadata": {},
   "outputs": [
    {
     "data": {
      "text/plain": [
       "1999           213\n",
       "199            139\n",
       "999             43\n",
       "3400             6\n",
       "Multichild       5\n",
       "2000             4\n",
       "1996             2\n",
       "699              1\n",
       "95381 45678      1\n",
       "100              1\n",
       "99               1\n",
       "399              1\n",
       "1995             1\n",
       "Name: Pricing, dtype: int64"
      ]
     },
     "execution_count": 8,
     "metadata": {},
     "output_type": "execute_result"
    }
   ],
   "source": [
    "df_subscription_bought['Pricing'].value_counts()"
   ]
  },
  {
   "cell_type": "markdown",
   "metadata": {},
   "source": [
    "# Exploratory Data Analysis"
   ]
  },
  {
   "cell_type": "code",
   "execution_count": 9,
   "metadata": {},
   "outputs": [
    {
     "data": {
      "text/html": [
       "<div>\n",
       "<style scoped>\n",
       "    .dataframe tbody tr th:only-of-type {\n",
       "        vertical-align: middle;\n",
       "    }\n",
       "\n",
       "    .dataframe tbody tr th {\n",
       "        vertical-align: top;\n",
       "    }\n",
       "\n",
       "    .dataframe thead th {\n",
       "        text-align: right;\n",
       "    }\n",
       "</style>\n",
       "<table border=\"1\" class=\"dataframe\">\n",
       "  <thead>\n",
       "    <tr style=\"text-align: right;\">\n",
       "      <th></th>\n",
       "      <th>Child Name</th>\n",
       "      <th>Registered Number</th>\n",
       "      <th>Registered Email ID</th>\n",
       "      <th>Payment date</th>\n",
       "      <th>Sale by</th>\n",
       "      <th>Grade</th>\n",
       "      <th>Pricing</th>\n",
       "      <th>Duration</th>\n",
       "      <th>Sessions preferred</th>\n",
       "      <th>Live session details</th>\n",
       "    </tr>\n",
       "  </thead>\n",
       "  <tbody>\n",
       "    <tr>\n",
       "      <th>104</th>\n",
       "      <td>CH_31902</td>\n",
       "      <td>9.111002e+11</td>\n",
       "      <td>s2m_test_21946@tests2m.com</td>\n",
       "      <td>27-03-2020 12:00:00 AM</td>\n",
       "      <td>SP_1006</td>\n",
       "      <td>4</td>\n",
       "      <td>Multichild</td>\n",
       "      <td>8G</td>\n",
       "      <td>NaN</td>\n",
       "      <td>Live - Upsell (Larger plan)</td>\n",
       "    </tr>\n",
       "    <tr>\n",
       "      <th>352</th>\n",
       "      <td>CH_30835</td>\n",
       "      <td>9.111002e+11</td>\n",
       "      <td>s2m_test_20829@tests2m.com</td>\n",
       "      <td>22-04-2020 2:39:45 PM</td>\n",
       "      <td>SP_1012</td>\n",
       "      <td>4</td>\n",
       "      <td>Multichild</td>\n",
       "      <td>NaN</td>\n",
       "      <td>Assigned</td>\n",
       "      <td>Live - Upsell (Larger plan)</td>\n",
       "    </tr>\n",
       "    <tr>\n",
       "      <th>363</th>\n",
       "      <td>CH_32013</td>\n",
       "      <td>9.111002e+11</td>\n",
       "      <td>s2m_test_21022@tests2m.com</td>\n",
       "      <td>23-04-2020 5:49:24 PM</td>\n",
       "      <td>SP_1005</td>\n",
       "      <td>5</td>\n",
       "      <td>Multichild</td>\n",
       "      <td>10G+1yr</td>\n",
       "      <td>Assigned</td>\n",
       "      <td>NaN</td>\n",
       "    </tr>\n",
       "    <tr>\n",
       "      <th>398</th>\n",
       "      <td>CH_31412</td>\n",
       "      <td>NaN</td>\n",
       "      <td>s2m_test_20670@tests2m.com</td>\n",
       "      <td>26-04-2020 12:00:00 AM</td>\n",
       "      <td>SP_1001</td>\n",
       "      <td>NaN</td>\n",
       "      <td>Multichild</td>\n",
       "      <td>12G + 1yr</td>\n",
       "      <td>Assigned</td>\n",
       "      <td>NaN</td>\n",
       "    </tr>\n",
       "    <tr>\n",
       "      <th>406</th>\n",
       "      <td>CH_32077</td>\n",
       "      <td>9.111002e+11</td>\n",
       "      <td>s2m_test_21083@tests2m.com</td>\n",
       "      <td>2020-04-27 00:00:00</td>\n",
       "      <td>SP_1009</td>\n",
       "      <td>3</td>\n",
       "      <td>Multichild</td>\n",
       "      <td>12G+1tr +assesment</td>\n",
       "      <td>Assigned</td>\n",
       "      <td>NaN</td>\n",
       "    </tr>\n",
       "  </tbody>\n",
       "</table>\n",
       "</div>"
      ],
      "text/plain": [
       "    Child Name  Registered Number         Registered Email ID  \\\n",
       "104   CH_31902       9.111002e+11  s2m_test_21946@tests2m.com   \n",
       "352   CH_30835       9.111002e+11  s2m_test_20829@tests2m.com   \n",
       "363   CH_32013       9.111002e+11  s2m_test_21022@tests2m.com   \n",
       "398   CH_31412                NaN  s2m_test_20670@tests2m.com   \n",
       "406   CH_32077       9.111002e+11  s2m_test_21083@tests2m.com   \n",
       "\n",
       "               Payment date  Sale by Grade     Pricing            Duration  \\\n",
       "104  27-03-2020 12:00:00 AM  SP_1006     4  Multichild                  8G   \n",
       "352   22-04-2020 2:39:45 PM  SP_1012     4  Multichild                 NaN   \n",
       "363   23-04-2020 5:49:24 PM  SP_1005     5  Multichild             10G+1yr   \n",
       "398  26-04-2020 12:00:00 AM  SP_1001   NaN  Multichild           12G + 1yr   \n",
       "406     2020-04-27 00:00:00  SP_1009     3  Multichild  12G+1tr +assesment   \n",
       "\n",
       "    Sessions preferred         Live session details  \n",
       "104                NaN  Live - Upsell (Larger plan)  \n",
       "352           Assigned  Live - Upsell (Larger plan)  \n",
       "363           Assigned                          NaN  \n",
       "398           Assigned                          NaN  \n",
       "406           Assigned                          NaN  "
      ]
     },
     "execution_count": 9,
     "metadata": {},
     "output_type": "execute_result"
    }
   ],
   "source": [
    "df_subscription_bought[df_subscription_bought['Pricing']=='Multichild']"
   ]
  },
  {
   "cell_type": "markdown",
   "metadata": {},
   "source": [
    "### We have a string value in the Pricing column, I am assuming that the user paid for more than 1 child and the amount is more than Rs.499/-.\n",
    "\n",
    "### Therefore, replacing the value 'Multichild' with an amount more than 499."
   ]
  },
  {
   "cell_type": "code",
   "execution_count": 10,
   "metadata": {},
   "outputs": [],
   "source": [
    "df_subscription_bought['Pricing'] = df_subscription_bought['Pricing'].replace({'Multichild':500})"
   ]
  },
  {
   "cell_type": "code",
   "execution_count": 11,
   "metadata": {},
   "outputs": [
    {
     "data": {
      "text/plain": [
       "1999           213\n",
       "199            139\n",
       "999             43\n",
       "3400             6\n",
       "500              5\n",
       "2000             4\n",
       "1996             2\n",
       "699              1\n",
       "95381 45678      1\n",
       "100              1\n",
       "99               1\n",
       "399              1\n",
       "1995             1\n",
       "Name: Pricing, dtype: int64"
      ]
     },
     "execution_count": 11,
     "metadata": {},
     "output_type": "execute_result"
    }
   ],
   "source": [
    "df_subscription_bought['Pricing'].value_counts()"
   ]
  },
  {
   "cell_type": "code",
   "execution_count": 12,
   "metadata": {},
   "outputs": [
    {
     "data": {
      "text/html": [
       "<div>\n",
       "<style scoped>\n",
       "    .dataframe tbody tr th:only-of-type {\n",
       "        vertical-align: middle;\n",
       "    }\n",
       "\n",
       "    .dataframe tbody tr th {\n",
       "        vertical-align: top;\n",
       "    }\n",
       "\n",
       "    .dataframe thead th {\n",
       "        text-align: right;\n",
       "    }\n",
       "</style>\n",
       "<table border=\"1\" class=\"dataframe\">\n",
       "  <thead>\n",
       "    <tr style=\"text-align: right;\">\n",
       "      <th></th>\n",
       "      <th>Child Name</th>\n",
       "      <th>Registered Number</th>\n",
       "      <th>Registered Email ID</th>\n",
       "      <th>Payment date</th>\n",
       "      <th>Sale by</th>\n",
       "      <th>Grade</th>\n",
       "      <th>Pricing</th>\n",
       "      <th>Duration</th>\n",
       "      <th>Sessions preferred</th>\n",
       "      <th>Live session details</th>\n",
       "    </tr>\n",
       "  </thead>\n",
       "  <tbody>\n",
       "    <tr>\n",
       "      <th>250</th>\n",
       "      <td>CH_32008</td>\n",
       "      <td>9.111002e+11</td>\n",
       "      <td>s2m_test_22088@tests2m.com</td>\n",
       "      <td>2020-12-04 15:03:17</td>\n",
       "      <td>SP_1001</td>\n",
       "      <td>1</td>\n",
       "      <td>95381 45678</td>\n",
       "      <td>12G + 1y</td>\n",
       "      <td>SCJ/13042020/Batch 3</td>\n",
       "      <td>Live - Upsell (Larger plan)</td>\n",
       "    </tr>\n",
       "  </tbody>\n",
       "</table>\n",
       "</div>"
      ],
      "text/plain": [
       "    Child Name  Registered Number         Registered Email ID  \\\n",
       "250   CH_32008       9.111002e+11  s2m_test_22088@tests2m.com   \n",
       "\n",
       "            Payment date  Sale by Grade      Pricing  Duration  \\\n",
       "250  2020-12-04 15:03:17  SP_1001     1  95381 45678  12G + 1y   \n",
       "\n",
       "       Sessions preferred         Live session details  \n",
       "250  SCJ/13042020/Batch 3  Live - Upsell (Larger plan)  "
      ]
     },
     "execution_count": 12,
     "metadata": {},
     "output_type": "execute_result"
    }
   ],
   "source": [
    "df_subscription_bought[df_subscription_bought['Pricing']=='95381 45678']\n",
    "\n",
    "# I think there has been a misprint in the pricing column where child name = CH_32008.\n",
    "# Let us know more about the price on the basis of Duration column i.e. 12G + 1y"
   ]
  },
  {
   "cell_type": "code",
   "execution_count": 13,
   "metadata": {},
   "outputs": [
    {
     "data": {
      "text/plain": [
       "1             96\n",
       "12G + 1 yr    26\n",
       "12G + 1y      19\n",
       "8G            18\n",
       "12G           14\n",
       "10G+2I        13\n",
       "10G           13\n",
       "12G + 1yr     12\n",
       "6G            11\n",
       "5G            10\n",
       "Name: Duration, dtype: int64"
      ]
     },
     "execution_count": 13,
     "metadata": {},
     "output_type": "execute_result"
    }
   ],
   "source": [
    "df_subscription_bought['Duration'].value_counts().sort_values(ascending=False)[:10]"
   ]
  },
  {
   "cell_type": "code",
   "execution_count": 14,
   "metadata": {},
   "outputs": [
    {
     "data": {
      "text/html": [
       "<div>\n",
       "<style scoped>\n",
       "    .dataframe tbody tr th:only-of-type {\n",
       "        vertical-align: middle;\n",
       "    }\n",
       "\n",
       "    .dataframe tbody tr th {\n",
       "        vertical-align: top;\n",
       "    }\n",
       "\n",
       "    .dataframe thead th {\n",
       "        text-align: right;\n",
       "    }\n",
       "</style>\n",
       "<table border=\"1\" class=\"dataframe\">\n",
       "  <thead>\n",
       "    <tr style=\"text-align: right;\">\n",
       "      <th></th>\n",
       "      <th>Duration</th>\n",
       "      <th>Pricing</th>\n",
       "    </tr>\n",
       "  </thead>\n",
       "  <tbody>\n",
       "    <tr>\n",
       "      <th>219</th>\n",
       "      <td>12G + 1 yr</td>\n",
       "      <td>1999</td>\n",
       "    </tr>\n",
       "    <tr>\n",
       "      <th>224</th>\n",
       "      <td>12G + 1 yr</td>\n",
       "      <td>1999</td>\n",
       "    </tr>\n",
       "    <tr>\n",
       "      <th>277</th>\n",
       "      <td>12G + 1 yr</td>\n",
       "      <td>1999</td>\n",
       "    </tr>\n",
       "    <tr>\n",
       "      <th>278</th>\n",
       "      <td>12G + 1 yr</td>\n",
       "      <td>1999</td>\n",
       "    </tr>\n",
       "    <tr>\n",
       "      <th>282</th>\n",
       "      <td>12G + 1 yr</td>\n",
       "      <td>1999</td>\n",
       "    </tr>\n",
       "    <tr>\n",
       "      <th>283</th>\n",
       "      <td>12G + 1 yr</td>\n",
       "      <td>1999</td>\n",
       "    </tr>\n",
       "    <tr>\n",
       "      <th>285</th>\n",
       "      <td>12G + 1 yr</td>\n",
       "      <td>1999</td>\n",
       "    </tr>\n",
       "    <tr>\n",
       "      <th>286</th>\n",
       "      <td>12G + 1 yr</td>\n",
       "      <td>1999</td>\n",
       "    </tr>\n",
       "    <tr>\n",
       "      <th>288</th>\n",
       "      <td>12G + 1 yr</td>\n",
       "      <td>1999</td>\n",
       "    </tr>\n",
       "    <tr>\n",
       "      <th>289</th>\n",
       "      <td>12G + 1 yr</td>\n",
       "      <td>1999</td>\n",
       "    </tr>\n",
       "    <tr>\n",
       "      <th>291</th>\n",
       "      <td>12G + 1 yr</td>\n",
       "      <td>1999</td>\n",
       "    </tr>\n",
       "    <tr>\n",
       "      <th>292</th>\n",
       "      <td>12G + 1 yr</td>\n",
       "      <td>1996</td>\n",
       "    </tr>\n",
       "    <tr>\n",
       "      <th>294</th>\n",
       "      <td>12G + 1 yr</td>\n",
       "      <td>1999</td>\n",
       "    </tr>\n",
       "    <tr>\n",
       "      <th>300</th>\n",
       "      <td>12G + 1 yr</td>\n",
       "      <td>1999</td>\n",
       "    </tr>\n",
       "    <tr>\n",
       "      <th>313</th>\n",
       "      <td>12G + 1 yr</td>\n",
       "      <td>1999</td>\n",
       "    </tr>\n",
       "    <tr>\n",
       "      <th>314</th>\n",
       "      <td>12G + 1 yr</td>\n",
       "      <td>1999</td>\n",
       "    </tr>\n",
       "    <tr>\n",
       "      <th>316</th>\n",
       "      <td>12G + 1 yr</td>\n",
       "      <td>1999</td>\n",
       "    </tr>\n",
       "    <tr>\n",
       "      <th>319</th>\n",
       "      <td>12G + 1 yr</td>\n",
       "      <td>1999</td>\n",
       "    </tr>\n",
       "    <tr>\n",
       "      <th>320</th>\n",
       "      <td>12G + 1 yr</td>\n",
       "      <td>1999</td>\n",
       "    </tr>\n",
       "    <tr>\n",
       "      <th>331</th>\n",
       "      <td>12G + 1 yr</td>\n",
       "      <td>1999</td>\n",
       "    </tr>\n",
       "    <tr>\n",
       "      <th>333</th>\n",
       "      <td>12G + 1 yr</td>\n",
       "      <td>1999</td>\n",
       "    </tr>\n",
       "    <tr>\n",
       "      <th>335</th>\n",
       "      <td>12G + 1 yr</td>\n",
       "      <td>1999</td>\n",
       "    </tr>\n",
       "    <tr>\n",
       "      <th>385</th>\n",
       "      <td>12G + 1 yr</td>\n",
       "      <td>1999</td>\n",
       "    </tr>\n",
       "    <tr>\n",
       "      <th>387</th>\n",
       "      <td>12G + 1 yr</td>\n",
       "      <td>1999</td>\n",
       "    </tr>\n",
       "    <tr>\n",
       "      <th>388</th>\n",
       "      <td>12G + 1 yr</td>\n",
       "      <td>1999</td>\n",
       "    </tr>\n",
       "    <tr>\n",
       "      <th>389</th>\n",
       "      <td>12G + 1 yr</td>\n",
       "      <td>1999</td>\n",
       "    </tr>\n",
       "  </tbody>\n",
       "</table>\n",
       "</div>"
      ],
      "text/plain": [
       "       Duration Pricing\n",
       "219  12G + 1 yr    1999\n",
       "224  12G + 1 yr    1999\n",
       "277  12G + 1 yr    1999\n",
       "278  12G + 1 yr    1999\n",
       "282  12G + 1 yr    1999\n",
       "283  12G + 1 yr    1999\n",
       "285  12G + 1 yr    1999\n",
       "286  12G + 1 yr    1999\n",
       "288  12G + 1 yr    1999\n",
       "289  12G + 1 yr    1999\n",
       "291  12G + 1 yr    1999\n",
       "292  12G + 1 yr    1996\n",
       "294  12G + 1 yr    1999\n",
       "300  12G + 1 yr    1999\n",
       "313  12G + 1 yr    1999\n",
       "314  12G + 1 yr    1999\n",
       "316  12G + 1 yr    1999\n",
       "319  12G + 1 yr    1999\n",
       "320  12G + 1 yr    1999\n",
       "331  12G + 1 yr    1999\n",
       "333  12G + 1 yr    1999\n",
       "335  12G + 1 yr    1999\n",
       "385  12G + 1 yr    1999\n",
       "387  12G + 1 yr    1999\n",
       "388  12G + 1 yr    1999\n",
       "389  12G + 1 yr    1999"
      ]
     },
     "execution_count": 14,
     "metadata": {},
     "output_type": "execute_result"
    }
   ],
   "source": [
    "df_subscription_bought[df_subscription_bought['Duration']=='12G + 1 yr'][['Duration','Pricing']]"
   ]
  },
  {
   "cell_type": "code",
   "execution_count": 15,
   "metadata": {},
   "outputs": [],
   "source": [
    "# Therefore the price on the basis of duration for 12G + 1y is Rs.1999. \n",
    "# So, we will be replacing the incorrect value now.\n",
    "\n",
    "df_subscription_bought['Pricing'] = df_subscription_bought['Pricing'].replace({'95381 45678':1999})"
   ]
  },
  {
   "cell_type": "code",
   "execution_count": 16,
   "metadata": {},
   "outputs": [
    {
     "data": {
      "text/plain": [
       "<matplotlib.axes._subplots.AxesSubplot at 0x1b2404c7ac8>"
      ]
     },
     "execution_count": 16,
     "metadata": {},
     "output_type": "execute_result"
    },
    {
     "data": {
      "image/png": "[encoded data removed]",
      "text/plain": [
       "<Figure size 720x432 with 1 Axes>"
      ]
     },
     "metadata": {
      "needs_background": "light"
     },
     "output_type": "display_data"
    }
   ],
   "source": [
    "plt.figure(figsize=(10,6))\n",
    "sns.set_style(style='white')\n",
    "df_subscription_bought['Pricing'].value_counts().plot(kind='bar')"
   ]
  },
  {
   "cell_type": "code",
   "execution_count": 17,
   "metadata": {},
   "outputs": [
    {
     "data": {
      "text/plain": [
       "1999    51.20\n",
       "199     33.25\n",
       "999     10.29\n",
       "3400     1.44\n",
       "500      1.20\n",
       "2000     0.96\n",
       "1996     0.48\n",
       "99       0.24\n",
       "100      0.24\n",
       "699      0.24\n",
       "399      0.24\n",
       "1995     0.24\n",
       "Name: Pricing, dtype: float64"
      ]
     },
     "execution_count": 17,
     "metadata": {},
     "output_type": "execute_result"
    }
   ],
   "source": [
    "round((df_subscription_bought['Pricing'].value_counts().sort_values(ascending=False)/\n",
    "       df_subscription_bought['Pricing'].count())*100,2)\n",
    "\n",
    "# In %age form."
   ]
  },
  {
   "cell_type": "markdown",
   "metadata": {},
   "source": [
    "## Filter:  \n",
    "\n",
    "### Subscription Bought – Details of Sales that are made. Use only those cases where sale value is greater than equal to 499/-.\n"
   ]
  },
  {
   "cell_type": "code",
   "execution_count": 18,
   "metadata": {},
   "outputs": [],
   "source": [
    "df_subscription_bought2 = df_subscription_bought[df_subscription_bought['Pricing']>499]"
   ]
  },
  {
   "cell_type": "code",
   "execution_count": 19,
   "metadata": {},
   "outputs": [
    {
     "name": "stdout",
     "output_type": "stream",
     "text": [
      "<class 'pandas.core.frame.DataFrame'>\n",
      "Int64Index: 276 entries, 12 to 417\n",
      "Data columns (total 10 columns):\n",
      "Child Name              265 non-null object\n",
      "Registered Number       272 non-null float64\n",
      "Registered Email ID     256 non-null object\n",
      "Payment date            276 non-null object\n",
      "Sale by                 255 non-null object\n",
      "Grade                   264 non-null object\n",
      "Pricing                 276 non-null int64\n",
      "Duration                268 non-null object\n",
      "Sessions preferred      236 non-null object\n",
      "Live session details    217 non-null object\n",
      "dtypes: float64(1), int64(1), object(8)\n",
      "memory usage: 23.7+ KB\n"
     ]
    }
   ],
   "source": [
    "df_subscription_bought2.info()"
   ]
  },
  {
   "cell_type": "code",
   "execution_count": 20,
   "metadata": {},
   "outputs": [
    {
     "data": {
      "text/plain": [
       "253"
      ]
     },
     "execution_count": 20,
     "metadata": {},
     "output_type": "execute_result"
    }
   ],
   "source": [
    "df_subscription_bought2['Child Name'].nunique()"
   ]
  },
  {
   "cell_type": "code",
   "execution_count": 21,
   "metadata": {},
   "outputs": [
    {
     "data": {
      "text/plain": [
       "265"
      ]
     },
     "execution_count": 21,
     "metadata": {},
     "output_type": "execute_result"
    }
   ],
   "source": [
    "df_subscription_bought2['Child Name'].count()"
   ]
  },
  {
   "cell_type": "code",
   "execution_count": 22,
   "metadata": {},
   "outputs": [
    {
     "name": "stdout",
     "output_type": "stream",
     "text": [
      "1683\n",
      "1439\n"
     ]
    }
   ],
   "source": [
    "print(df_interested_users['Child name'].count())\n",
    "print(df_interested_users['Child name'].nunique())"
   ]
  },
  {
   "cell_type": "code",
   "execution_count": 23,
   "metadata": {},
   "outputs": [],
   "source": [
    "# Merging df_interested_users and df_subscription_bougth on Child Name column\n",
    "# to know which child name was converted into a sale.\n",
    "\n",
    "df_interested_users.rename(columns={'Child name':'Child Name'},inplace=True)\n",
    "\n",
    "df_sales = pd.concat([df_interested_users, df_subscription_bought2], axis=1, join='inner')\n"
   ]
  },
  {
   "cell_type": "code",
   "execution_count": 24,
   "metadata": {},
   "outputs": [
    {
     "data": {
      "text/html": [
       "<div>\n",
       "<style scoped>\n",
       "    .dataframe tbody tr th:only-of-type {\n",
       "        vertical-align: middle;\n",
       "    }\n",
       "\n",
       "    .dataframe tbody tr th {\n",
       "        vertical-align: top;\n",
       "    }\n",
       "\n",
       "    .dataframe thead th {\n",
       "        text-align: right;\n",
       "    }\n",
       "</style>\n",
       "<table border=\"1\" class=\"dataframe\">\n",
       "  <thead>\n",
       "    <tr style=\"text-align: right;\">\n",
       "      <th></th>\n",
       "      <th>Child Name</th>\n",
       "      <th>phone</th>\n",
       "      <th>email_id</th>\n",
       "      <th>school</th>\n",
       "      <th>grade</th>\n",
       "      <th>batch_preferred</th>\n",
       "      <th>source</th>\n",
       "      <th>Submitted At</th>\n",
       "      <th>Child Name</th>\n",
       "      <th>Registered Number</th>\n",
       "      <th>Registered Email ID</th>\n",
       "      <th>Payment date</th>\n",
       "      <th>Sale by</th>\n",
       "      <th>Grade</th>\n",
       "      <th>Pricing</th>\n",
       "      <th>Duration</th>\n",
       "      <th>Sessions preferred</th>\n",
       "      <th>Live session details</th>\n",
       "    </tr>\n",
       "  </thead>\n",
       "  <tbody>\n",
       "    <tr>\n",
       "      <th>12</th>\n",
       "      <td>CH_30012</td>\n",
       "      <td>911100221012</td>\n",
       "      <td>s2m_test_20013@tests2m.com</td>\n",
       "      <td>The SHRI ram UNIVERSAL SCHOOL jakh</td>\n",
       "      <td>Grade 1</td>\n",
       "      <td>Morning Batch (11:15 - 12:00 PM), Evening Batc...</td>\n",
       "      <td>lastchance</td>\n",
       "      <td>2020-04-16 08:57:57</td>\n",
       "      <td>CH_31858</td>\n",
       "      <td>9.111002e+11</td>\n",
       "      <td>s2m_test_21900@tests2m.com</td>\n",
       "      <td>18-03-2020 12:00:00 AM</td>\n",
       "      <td>NaN</td>\n",
       "      <td>2</td>\n",
       "      <td>999</td>\n",
       "      <td>4G+1I</td>\n",
       "      <td>NaN</td>\n",
       "      <td>Live - Upsell (Larger plan)</td>\n",
       "    </tr>\n",
       "    <tr>\n",
       "      <th>15</th>\n",
       "      <td>CH_30015</td>\n",
       "      <td>911100221015</td>\n",
       "      <td>s2m_test_20016@tests2m.com</td>\n",
       "      <td>Indus Valley World School</td>\n",
       "      <td>Grade 2</td>\n",
       "      <td>Evening Batch (6:15 - 7:00 PM), Afternoon Batc...</td>\n",
       "      <td>lastchance</td>\n",
       "      <td>2020-04-16 09:06:17</td>\n",
       "      <td>CH_31860</td>\n",
       "      <td>9.111002e+11</td>\n",
       "      <td>s2m_test_21903@tests2m.com</td>\n",
       "      <td>18-03-2020 12:00:00 AM</td>\n",
       "      <td>NaN</td>\n",
       "      <td>4</td>\n",
       "      <td>1999</td>\n",
       "      <td>12G</td>\n",
       "      <td>NaN</td>\n",
       "      <td>Live - Upsell (Larger plan)</td>\n",
       "    </tr>\n",
       "  </tbody>\n",
       "</table>\n",
       "</div>"
      ],
      "text/plain": [
       "   Child Name         phone                    email_id  \\\n",
       "12   CH_30012  911100221012  s2m_test_20013@tests2m.com   \n",
       "15   CH_30015  911100221015  s2m_test_20016@tests2m.com   \n",
       "\n",
       "                                school    grade  \\\n",
       "12  The SHRI ram UNIVERSAL SCHOOL jakh  Grade 1   \n",
       "15           Indus Valley World School  Grade 2   \n",
       "\n",
       "                                      batch_preferred      source  \\\n",
       "12  Morning Batch (11:15 - 12:00 PM), Evening Batc...  lastchance   \n",
       "15  Evening Batch (6:15 - 7:00 PM), Afternoon Batc...  lastchance   \n",
       "\n",
       "          Submitted At Child Name  Registered Number  \\\n",
       "12 2020-04-16 08:57:57   CH_31858       9.111002e+11   \n",
       "15 2020-04-16 09:06:17   CH_31860       9.111002e+11   \n",
       "\n",
       "           Registered Email ID            Payment date Sale by Grade  Pricing  \\\n",
       "12  s2m_test_21900@tests2m.com  18-03-2020 12:00:00 AM     NaN     2      999   \n",
       "15  s2m_test_21903@tests2m.com  18-03-2020 12:00:00 AM     NaN     4     1999   \n",
       "\n",
       "   Duration Sessions preferred         Live session details  \n",
       "12    4G+1I                NaN  Live - Upsell (Larger plan)  \n",
       "15      12G                NaN  Live - Upsell (Larger plan)  "
      ]
     },
     "execution_count": 24,
     "metadata": {},
     "output_type": "execute_result"
    }
   ],
   "source": [
    "df_sales[:2]"
   ]
  },
  {
   "cell_type": "code",
   "execution_count": 25,
   "metadata": {},
   "outputs": [
    {
     "data": {
      "text/plain": [
       "(276, 18)"
      ]
     },
     "execution_count": 25,
     "metadata": {},
     "output_type": "execute_result"
    }
   ],
   "source": [
    "df_sales.shape"
   ]
  },
  {
   "cell_type": "code",
   "execution_count": 26,
   "metadata": {},
   "outputs": [
    {
     "data": {
      "text/html": [
       "<div>\n",
       "<style scoped>\n",
       "    .dataframe tbody tr th:only-of-type {\n",
       "        vertical-align: middle;\n",
       "    }\n",
       "\n",
       "    .dataframe tbody tr th {\n",
       "        vertical-align: top;\n",
       "    }\n",
       "\n",
       "    .dataframe thead th {\n",
       "        text-align: right;\n",
       "    }\n",
       "</style>\n",
       "<table border=\"1\" class=\"dataframe\">\n",
       "  <thead>\n",
       "    <tr style=\"text-align: right;\">\n",
       "      <th></th>\n",
       "      <th>Child Name</th>\n",
       "      <th>phone</th>\n",
       "      <th>email_id</th>\n",
       "      <th>school</th>\n",
       "      <th>grade</th>\n",
       "      <th>batch_preferred</th>\n",
       "      <th>source</th>\n",
       "      <th>Submitted At</th>\n",
       "      <th>Child Name</th>\n",
       "      <th>Registered Number</th>\n",
       "      <th>Registered Email ID</th>\n",
       "      <th>Payment date</th>\n",
       "      <th>Sale by</th>\n",
       "      <th>Grade</th>\n",
       "      <th>Pricing</th>\n",
       "      <th>Duration</th>\n",
       "      <th>Sessions preferred</th>\n",
       "      <th>Live session details</th>\n",
       "    </tr>\n",
       "  </thead>\n",
       "  <tbody>\n",
       "    <tr>\n",
       "      <th>12</th>\n",
       "      <td>CH_30012</td>\n",
       "      <td>911100221012</td>\n",
       "      <td>s2m_test_20013@tests2m.com</td>\n",
       "      <td>The SHRI ram UNIVERSAL SCHOOL jakh</td>\n",
       "      <td>Grade 1</td>\n",
       "      <td>Morning Batch (11:15 - 12:00 PM), Evening Batc...</td>\n",
       "      <td>lastchance</td>\n",
       "      <td>2020-04-16 08:57:57</td>\n",
       "      <td>CH_31858</td>\n",
       "      <td>9.111002e+11</td>\n",
       "      <td>s2m_test_21900@tests2m.com</td>\n",
       "      <td>18-03-2020 12:00:00 AM</td>\n",
       "      <td>NaN</td>\n",
       "      <td>2</td>\n",
       "      <td>999</td>\n",
       "      <td>4G+1I</td>\n",
       "      <td>NaN</td>\n",
       "      <td>Live - Upsell (Larger plan)</td>\n",
       "    </tr>\n",
       "    <tr>\n",
       "      <th>15</th>\n",
       "      <td>CH_30015</td>\n",
       "      <td>911100221015</td>\n",
       "      <td>s2m_test_20016@tests2m.com</td>\n",
       "      <td>Indus Valley World School</td>\n",
       "      <td>Grade 2</td>\n",
       "      <td>Evening Batch (6:15 - 7:00 PM), Afternoon Batc...</td>\n",
       "      <td>lastchance</td>\n",
       "      <td>2020-04-16 09:06:17</td>\n",
       "      <td>CH_31860</td>\n",
       "      <td>9.111002e+11</td>\n",
       "      <td>s2m_test_21903@tests2m.com</td>\n",
       "      <td>18-03-2020 12:00:00 AM</td>\n",
       "      <td>NaN</td>\n",
       "      <td>4</td>\n",
       "      <td>1999</td>\n",
       "      <td>12G</td>\n",
       "      <td>NaN</td>\n",
       "      <td>Live - Upsell (Larger plan)</td>\n",
       "    </tr>\n",
       "  </tbody>\n",
       "</table>\n",
       "</div>"
      ],
      "text/plain": [
       "   Child Name         phone                    email_id  \\\n",
       "12   CH_30012  911100221012  s2m_test_20013@tests2m.com   \n",
       "15   CH_30015  911100221015  s2m_test_20016@tests2m.com   \n",
       "\n",
       "                                school    grade  \\\n",
       "12  The SHRI ram UNIVERSAL SCHOOL jakh  Grade 1   \n",
       "15           Indus Valley World School  Grade 2   \n",
       "\n",
       "                                      batch_preferred      source  \\\n",
       "12  Morning Batch (11:15 - 12:00 PM), Evening Batc...  lastchance   \n",
       "15  Evening Batch (6:15 - 7:00 PM), Afternoon Batc...  lastchance   \n",
       "\n",
       "          Submitted At Child Name  Registered Number  \\\n",
       "12 2020-04-16 08:57:57   CH_31858       9.111002e+11   \n",
       "15 2020-04-16 09:06:17   CH_31860       9.111002e+11   \n",
       "\n",
       "           Registered Email ID            Payment date Sale by Grade  Pricing  \\\n",
       "12  s2m_test_21900@tests2m.com  18-03-2020 12:00:00 AM     NaN     2      999   \n",
       "15  s2m_test_21903@tests2m.com  18-03-2020 12:00:00 AM     NaN     4     1999   \n",
       "\n",
       "   Duration Sessions preferred         Live session details  \n",
       "12    4G+1I                NaN  Live - Upsell (Larger plan)  \n",
       "15      12G                NaN  Live - Upsell (Larger plan)  "
      ]
     },
     "execution_count": 26,
     "metadata": {},
     "output_type": "execute_result"
    }
   ],
   "source": [
    "df_sales.head(2)"
   ]
  },
  {
   "cell_type": "code",
   "execution_count": 27,
   "metadata": {},
   "outputs": [
    {
     "data": {
      "text/plain": [
       "(array([0, 1, 2, 3, 4, 5, 6, 7]), <a list of 8 Text xticklabel objects>)"
      ]
     },
     "execution_count": 27,
     "metadata": {},
     "output_type": "execute_result"
    },
    {
     "data": {
      "image/png": "[encoded data removed]",
      "text/plain": [
       "<Figure size 720x360 with 1 Axes>"
      ]
     },
     "metadata": {},
     "output_type": "display_data"
    }
   ],
   "source": [
    "plt.figure(figsize=(10,5))\n",
    "sns.set_style(style='whitegrid')\n",
    "df_sales['Grade'].value_counts().plot(kind='bar',color='gray')\n",
    "plt.xticks(rotation=360,size=14)"
   ]
  },
  {
   "cell_type": "code",
   "execution_count": 28,
   "metadata": {},
   "outputs": [
    {
     "data": {
      "text/plain": [
       "4          81\n",
       "3          67\n",
       "2          64\n",
       "1          44\n",
       "5           5\n",
       "Nursery     1\n",
       "Kg          1\n",
       "6           1\n",
       "Name: Grade, dtype: int64"
      ]
     },
     "execution_count": 28,
     "metadata": {},
     "output_type": "execute_result"
    }
   ],
   "source": [
    "df_sales['Grade'].value_counts()"
   ]
  },
  {
   "cell_type": "markdown",
   "metadata": {},
   "source": [
    "### Using these data, create tables to track the following:\n",
    "\n",
    "## 1. Sales conversion with respect to Trainers"
   ]
  },
  {
   "cell_type": "code",
   "execution_count": 29,
   "metadata": {},
   "outputs": [
    {
     "name": "stdout",
     "output_type": "stream",
     "text": [
      "<class 'pandas.core.frame.DataFrame'>\n",
      "RangeIndex: 174 entries, 0 to 173\n",
      "Data columns (total 8 columns):\n",
      "Trainer Name    173 non-null object\n",
      "Date            174 non-null object\n",
      "Timing          174 non-null object\n",
      "Grade           174 non-null object\n",
      "Batch size      160 non-null object\n",
      "Batch count     159 non-null float64\n",
      "Batch           174 non-null object\n",
      "Topics          174 non-null object\n",
      "dtypes: float64(1), object(7)\n",
      "memory usage: 11.0+ KB\n"
     ]
    }
   ],
   "source": [
    "df_trainers.info()"
   ]
  },
  {
   "cell_type": "code",
   "execution_count": 30,
   "metadata": {},
   "outputs": [
    {
     "data": {
      "text/html": [
       "<div>\n",
       "<style scoped>\n",
       "    .dataframe tbody tr th:only-of-type {\n",
       "        vertical-align: middle;\n",
       "    }\n",
       "\n",
       "    .dataframe tbody tr th {\n",
       "        vertical-align: top;\n",
       "    }\n",
       "\n",
       "    .dataframe thead th {\n",
       "        text-align: right;\n",
       "    }\n",
       "</style>\n",
       "<table border=\"1\" class=\"dataframe\">\n",
       "  <thead>\n",
       "    <tr style=\"text-align: right;\">\n",
       "      <th></th>\n",
       "      <th>Trainer Name</th>\n",
       "      <th>Date</th>\n",
       "      <th>Timing</th>\n",
       "      <th>Grade</th>\n",
       "      <th>Batch size</th>\n",
       "      <th>Batch count</th>\n",
       "      <th>Batch</th>\n",
       "      <th>Topics</th>\n",
       "    </tr>\n",
       "  </thead>\n",
       "  <tbody>\n",
       "    <tr>\n",
       "      <th>0</th>\n",
       "      <td>FAC_5001</td>\n",
       "      <td>16 April Thursday</td>\n",
       "      <td>11.15 am - 12 noon</td>\n",
       "      <td>Grade 1,2</td>\n",
       "      <td>group</td>\n",
       "      <td>9.0</td>\n",
       "      <td>trial I</td>\n",
       "      <td>Rocking with rhymes</td>\n",
       "    </tr>\n",
       "    <tr>\n",
       "      <th>1</th>\n",
       "      <td>FAC_5002</td>\n",
       "      <td>16 April Thursday</td>\n",
       "      <td>11.15 am - 12 noon</td>\n",
       "      <td>Grade 3,4</td>\n",
       "      <td>group</td>\n",
       "      <td>9.0</td>\n",
       "      <td>trial I</td>\n",
       "      <td>In my mind's eye</td>\n",
       "    </tr>\n",
       "  </tbody>\n",
       "</table>\n",
       "</div>"
      ],
      "text/plain": [
       "  Trainer Name               Date              Timing       Grade Batch size   \\\n",
       "0     FAC_5001  16 April Thursday  11.15 am - 12 noon   Grade 1,2       group   \n",
       "1     FAC_5002  16 April Thursday  11.15 am - 12 noon  Grade 3,4        group   \n",
       "\n",
       "   Batch count    Batch               Topics  \n",
       "0          9.0  trial I  Rocking with rhymes  \n",
       "1          9.0  trial I     In my mind's eye  "
      ]
     },
     "execution_count": 30,
     "metadata": {},
     "output_type": "execute_result"
    }
   ],
   "source": [
    "df_trainers[:2]"
   ]
  },
  {
   "cell_type": "code",
   "execution_count": 31,
   "metadata": {},
   "outputs": [
    {
     "data": {
      "text/plain": [
       "['3', '4']"
      ]
     },
     "execution_count": 31,
     "metadata": {},
     "output_type": "execute_result"
    }
   ],
   "source": [
    "df_trainers['Grade'][1][6:9].split(sep=',')"
   ]
  },
  {
   "cell_type": "code",
   "execution_count": 32,
   "metadata": {},
   "outputs": [],
   "source": [
    "df_trainers['GradeA'] = df_trainers['Grade'].apply(lambda x : np.int(x[6:9].split(sep=',')[0]))"
   ]
  },
  {
   "cell_type": "code",
   "execution_count": 33,
   "metadata": {},
   "outputs": [],
   "source": [
    "df_trainers['GradeB'] = df_trainers['Grade'].apply(lambda x : np.int(x[6:9].split(sep=',')[1]))"
   ]
  },
  {
   "cell_type": "code",
   "execution_count": 34,
   "metadata": {},
   "outputs": [],
   "source": [
    "del(df_trainers['Grade'])"
   ]
  },
  {
   "cell_type": "code",
   "execution_count": 35,
   "metadata": {},
   "outputs": [],
   "source": [
    "df_trainers1 = df_trainers.drop('GradeA',axis=1)"
   ]
  },
  {
   "cell_type": "code",
   "execution_count": 36,
   "metadata": {},
   "outputs": [],
   "source": [
    "df_trainers2 = df_trainers.drop('GradeB',axis=1)"
   ]
  },
  {
   "cell_type": "code",
   "execution_count": 37,
   "metadata": {},
   "outputs": [],
   "source": [
    "df_trainers_final = df_trainers1.append(df_trainers2,ignore_index=True,sort=True)"
   ]
  },
  {
   "cell_type": "code",
   "execution_count": 38,
   "metadata": {},
   "outputs": [],
   "source": [
    "df_trainers_final.columns\n",
    "\n",
    "df_trainers_final = df_trainers_final[['Trainer Name', 'Date', 'Timing', 'Batch size ', 'Batch count', 'Batch',\n",
    "       'Topics', 'GradeA','GradeB']]"
   ]
  },
  {
   "cell_type": "code",
   "execution_count": 39,
   "metadata": {},
   "outputs": [
    {
     "data": {
      "text/html": [
       "<div>\n",
       "<style scoped>\n",
       "    .dataframe tbody tr th:only-of-type {\n",
       "        vertical-align: middle;\n",
       "    }\n",
       "\n",
       "    .dataframe tbody tr th {\n",
       "        vertical-align: top;\n",
       "    }\n",
       "\n",
       "    .dataframe thead th {\n",
       "        text-align: right;\n",
       "    }\n",
       "</style>\n",
       "<table border=\"1\" class=\"dataframe\">\n",
       "  <thead>\n",
       "    <tr style=\"text-align: right;\">\n",
       "      <th></th>\n",
       "      <th>Trainer Name</th>\n",
       "      <th>Date</th>\n",
       "      <th>Timing</th>\n",
       "      <th>Batch size</th>\n",
       "      <th>Batch count</th>\n",
       "      <th>Batch</th>\n",
       "      <th>Topics</th>\n",
       "      <th>GradeA</th>\n",
       "      <th>GradeB</th>\n",
       "    </tr>\n",
       "  </thead>\n",
       "  <tbody>\n",
       "    <tr>\n",
       "      <th>172</th>\n",
       "      <td>FAC_5002</td>\n",
       "      <td>27 April Monday</td>\n",
       "      <td>6.00 pm - 6.45 pm</td>\n",
       "      <td>NaN</td>\n",
       "      <td>NaN</td>\n",
       "      <td>Trial II</td>\n",
       "      <td>Word Whiz</td>\n",
       "      <td>NaN</td>\n",
       "      <td>2.0</td>\n",
       "    </tr>\n",
       "    <tr>\n",
       "      <th>173</th>\n",
       "      <td>FAC_5022</td>\n",
       "      <td>27 April Monday</td>\n",
       "      <td>6.00 pm - 6.45 pm</td>\n",
       "      <td>NaN</td>\n",
       "      <td>NaN</td>\n",
       "      <td>Trial III</td>\n",
       "      <td>Rocking with rhymes</td>\n",
       "      <td>NaN</td>\n",
       "      <td>2.0</td>\n",
       "    </tr>\n",
       "    <tr>\n",
       "      <th>174</th>\n",
       "      <td>FAC_5001</td>\n",
       "      <td>16 April Thursday</td>\n",
       "      <td>11.15 am - 12 noon</td>\n",
       "      <td>group</td>\n",
       "      <td>9.0</td>\n",
       "      <td>trial I</td>\n",
       "      <td>Rocking with rhymes</td>\n",
       "      <td>1.0</td>\n",
       "      <td>NaN</td>\n",
       "    </tr>\n",
       "    <tr>\n",
       "      <th>175</th>\n",
       "      <td>FAC_5002</td>\n",
       "      <td>16 April Thursday</td>\n",
       "      <td>11.15 am - 12 noon</td>\n",
       "      <td>group</td>\n",
       "      <td>9.0</td>\n",
       "      <td>trial I</td>\n",
       "      <td>In my mind's eye</td>\n",
       "      <td>3.0</td>\n",
       "      <td>NaN</td>\n",
       "    </tr>\n",
       "    <tr>\n",
       "      <th>176</th>\n",
       "      <td>FAC_5003</td>\n",
       "      <td>16 April Thursday</td>\n",
       "      <td>11.15 am - 12 noon</td>\n",
       "      <td>group</td>\n",
       "      <td>9.0</td>\n",
       "      <td>trial II</td>\n",
       "      <td>Word Whiz</td>\n",
       "      <td>1.0</td>\n",
       "      <td>NaN</td>\n",
       "    </tr>\n",
       "    <tr>\n",
       "      <th>177</th>\n",
       "      <td>FAC_5006</td>\n",
       "      <td>16 April Thursday</td>\n",
       "      <td>11.15 am - 12 noon</td>\n",
       "      <td>group</td>\n",
       "      <td>7.0</td>\n",
       "      <td>trial II</td>\n",
       "      <td>Rocking with rhymes</td>\n",
       "      <td>3.0</td>\n",
       "      <td>NaN</td>\n",
       "    </tr>\n",
       "    <tr>\n",
       "      <th>178</th>\n",
       "      <td>FAC_5007</td>\n",
       "      <td>16 April Thursday</td>\n",
       "      <td>4:00-4:45 pm</td>\n",
       "      <td>group</td>\n",
       "      <td>9.0</td>\n",
       "      <td>trial I</td>\n",
       "      <td>In my head or real</td>\n",
       "      <td>3.0</td>\n",
       "      <td>NaN</td>\n",
       "    </tr>\n",
       "    <tr>\n",
       "      <th>179</th>\n",
       "      <td>FAC_5008</td>\n",
       "      <td>16 April Thursday</td>\n",
       "      <td>4:00-4:45 pm</td>\n",
       "      <td>group</td>\n",
       "      <td>9.0</td>\n",
       "      <td>trial II</td>\n",
       "      <td>storm in my brain</td>\n",
       "      <td>3.0</td>\n",
       "      <td>NaN</td>\n",
       "    </tr>\n",
       "  </tbody>\n",
       "</table>\n",
       "</div>"
      ],
      "text/plain": [
       "    Trainer Name               Date              Timing Batch size   \\\n",
       "172     FAC_5002    27 April Monday  6.00 pm - 6.45 pm          NaN   \n",
       "173     FAC_5022    27 April Monday  6.00 pm - 6.45 pm          NaN   \n",
       "174     FAC_5001  16 April Thursday  11.15 am - 12 noon       group   \n",
       "175     FAC_5002  16 April Thursday  11.15 am - 12 noon       group   \n",
       "176     FAC_5003  16 April Thursday  11.15 am - 12 noon       group   \n",
       "177     FAC_5006  16 April Thursday  11.15 am - 12 noon       group   \n",
       "178     FAC_5007  16 April Thursday        4:00-4:45 pm       group   \n",
       "179     FAC_5008  16 April Thursday        4:00-4:45 pm       group   \n",
       "\n",
       "     Batch count      Batch               Topics  GradeA  GradeB  \n",
       "172          NaN   Trial II            Word Whiz     NaN     2.0  \n",
       "173          NaN  Trial III  Rocking with rhymes     NaN     2.0  \n",
       "174          9.0    trial I  Rocking with rhymes     1.0     NaN  \n",
       "175          9.0    trial I     In my mind's eye     3.0     NaN  \n",
       "176          9.0   trial II            Word Whiz     1.0     NaN  \n",
       "177          7.0   trial II  Rocking with rhymes     3.0     NaN  \n",
       "178          9.0    trial I   In my head or real     3.0     NaN  \n",
       "179          9.0   trial II    storm in my brain     3.0     NaN  "
      ]
     },
     "execution_count": 39,
     "metadata": {},
     "output_type": "execute_result"
    }
   ],
   "source": [
    "# Checking from which index value does the trainer name column starts over again.\n",
    "\n",
    "df_trainers_final[172:180]"
   ]
  },
  {
   "cell_type": "code",
   "execution_count": 40,
   "metadata": {},
   "outputs": [],
   "source": [
    "df_trainers_final['GradeA'][0:174].fillna(df_trainers_final['GradeB'][0:174],inplace=True)"
   ]
  },
  {
   "cell_type": "code",
   "execution_count": 41,
   "metadata": {},
   "outputs": [],
   "source": [
    "del(df_trainers_final['GradeB'])"
   ]
  },
  {
   "cell_type": "code",
   "execution_count": 42,
   "metadata": {},
   "outputs": [],
   "source": [
    "df_trainers_final.rename(columns={'GradeA':'Grade'},inplace=True)"
   ]
  },
  {
   "cell_type": "code",
   "execution_count": 43,
   "metadata": {},
   "outputs": [
    {
     "data": {
      "text/plain": [
       "3.0    89\n",
       "4.0    89\n",
       "1.0    85\n",
       "2.0    85\n",
       "Name: Grade, dtype: int64"
      ]
     },
     "execution_count": 43,
     "metadata": {},
     "output_type": "execute_result"
    }
   ],
   "source": [
    "df_trainers_final.Grade.value_counts()"
   ]
  },
  {
   "cell_type": "code",
   "execution_count": 44,
   "metadata": {},
   "outputs": [],
   "source": [
    "# Creating function to know to which classes the trainer teaches.\n",
    "\n",
    "def trainer(name):\n",
    "    classes = df_trainers_final[df_trainers_final['Trainer Name']==name]\n",
    "    return(classes)"
   ]
  },
  {
   "cell_type": "code",
   "execution_count": 45,
   "metadata": {},
   "outputs": [
    {
     "data": {
      "text/html": [
       "<div>\n",
       "<style scoped>\n",
       "    .dataframe tbody tr th:only-of-type {\n",
       "        vertical-align: middle;\n",
       "    }\n",
       "\n",
       "    .dataframe tbody tr th {\n",
       "        vertical-align: top;\n",
       "    }\n",
       "\n",
       "    .dataframe thead th {\n",
       "        text-align: right;\n",
       "    }\n",
       "</style>\n",
       "<table border=\"1\" class=\"dataframe\">\n",
       "  <thead>\n",
       "    <tr style=\"text-align: right;\">\n",
       "      <th></th>\n",
       "      <th>Trainer Name</th>\n",
       "      <th>Date</th>\n",
       "      <th>Timing</th>\n",
       "      <th>Batch size</th>\n",
       "      <th>Batch count</th>\n",
       "      <th>Batch</th>\n",
       "      <th>Topics</th>\n",
       "      <th>Grade</th>\n",
       "    </tr>\n",
       "  </thead>\n",
       "  <tbody>\n",
       "    <tr>\n",
       "      <th>4</th>\n",
       "      <td>FAC_5007</td>\n",
       "      <td>16 April Thursday</td>\n",
       "      <td>4:00-4:45 pm</td>\n",
       "      <td>group</td>\n",
       "      <td>9.0</td>\n",
       "      <td>trial I</td>\n",
       "      <td>In my head or real</td>\n",
       "      <td>4.0</td>\n",
       "    </tr>\n",
       "    <tr>\n",
       "      <th>178</th>\n",
       "      <td>FAC_5007</td>\n",
       "      <td>16 April Thursday</td>\n",
       "      <td>4:00-4:45 pm</td>\n",
       "      <td>group</td>\n",
       "      <td>9.0</td>\n",
       "      <td>trial I</td>\n",
       "      <td>In my head or real</td>\n",
       "      <td>3.0</td>\n",
       "    </tr>\n",
       "  </tbody>\n",
       "</table>\n",
       "</div>"
      ],
      "text/plain": [
       "    Trainer Name               Date        Timing Batch size   Batch count  \\\n",
       "4       FAC_5007  16 April Thursday  4:00-4:45 pm       group          9.0   \n",
       "178     FAC_5007  16 April Thursday  4:00-4:45 pm       group          9.0   \n",
       "\n",
       "       Batch              Topics  Grade  \n",
       "4    trial I  In my head or real    4.0  \n",
       "178  trial I  In my head or real    3.0  "
      ]
     },
     "execution_count": 45,
     "metadata": {},
     "output_type": "execute_result"
    }
   ],
   "source": [
    "trainer('FAC_5007')"
   ]
  },
  {
   "cell_type": "code",
   "execution_count": 46,
   "metadata": {},
   "outputs": [],
   "source": [
    "# trainers do not teach Kg and Nursery classes. Hence romoving such rows.\n",
    "\n",
    "df_sales2 = df_sales[(df_sales['Grade']!='Kg') & (df_sales['Grade']!='Nursery')]"
   ]
  },
  {
   "cell_type": "code",
   "execution_count": 47,
   "metadata": {},
   "outputs": [],
   "source": [
    "df_sales2 = df_sales2[pd.notnull(df_sales2['Grade'])]"
   ]
  },
  {
   "cell_type": "code",
   "execution_count": 48,
   "metadata": {},
   "outputs": [
    {
     "data": {
      "text/plain": [
       "array([2, 4, 1, 3, 6, 5], dtype=object)"
      ]
     },
     "execution_count": 48,
     "metadata": {},
     "output_type": "execute_result"
    }
   ],
   "source": [
    "df_sales2['Grade'].unique()"
   ]
  },
  {
   "cell_type": "code",
   "execution_count": 49,
   "metadata": {},
   "outputs": [],
   "source": [
    "df_trainers_final['Grade']=df_trainers_final['Grade'].apply(lambda x : np.int(x))"
   ]
  },
  {
   "cell_type": "code",
   "execution_count": 50,
   "metadata": {},
   "outputs": [
    {
     "data": {
      "text/plain": [
       "4    89\n",
       "3    89\n",
       "2    85\n",
       "1    85\n",
       "Name: Grade, dtype: int64"
      ]
     },
     "execution_count": 50,
     "metadata": {},
     "output_type": "execute_result"
    }
   ],
   "source": [
    "df_trainers_final['Grade'].value_counts()"
   ]
  },
  {
   "cell_type": "code",
   "execution_count": 51,
   "metadata": {},
   "outputs": [],
   "source": [
    "df_trainers_final['Grade'] = df_trainers_final['Grade'].astype(int)"
   ]
  },
  {
   "cell_type": "code",
   "execution_count": 52,
   "metadata": {},
   "outputs": [],
   "source": [
    "df_sales2['Grade'] = df_sales2['Grade'].astype(int)"
   ]
  },
  {
   "cell_type": "code",
   "execution_count": 53,
   "metadata": {},
   "outputs": [],
   "source": [
    "df_trainers_final2 = df_trainers_final.merge(df_sales2,on='Grade',how='inner')"
   ]
  },
  {
   "cell_type": "markdown",
   "metadata": {},
   "source": [
    "# This is the table that comprises of Sales conversion with respect to Trainers."
   ]
  },
  {
   "cell_type": "code",
   "execution_count": 54,
   "metadata": {},
   "outputs": [],
   "source": [
    "df_trainers_final2.columns\n",
    "\n",
    "df_trainers_final3 =df_trainers_final2[['Trainer Name', 'Date', 'Timing', 'Batch size ', 'Batch count', 'Batch',\n",
    "       'Topics', 'Grade','Registered Number', 'Pricing','Payment date', 'Sale by']]"
   ]
  },
  {
   "cell_type": "code",
   "execution_count": 55,
   "metadata": {},
   "outputs": [
    {
     "data": {
      "text/html": [
       "<div>\n",
       "<style scoped>\n",
       "    .dataframe tbody tr th:only-of-type {\n",
       "        vertical-align: middle;\n",
       "    }\n",
       "\n",
       "    .dataframe tbody tr th {\n",
       "        vertical-align: top;\n",
       "    }\n",
       "\n",
       "    .dataframe thead th {\n",
       "        text-align: right;\n",
       "    }\n",
       "</style>\n",
       "<table border=\"1\" class=\"dataframe\">\n",
       "  <thead>\n",
       "    <tr style=\"text-align: right;\">\n",
       "      <th></th>\n",
       "      <th>Trainer Name</th>\n",
       "      <th>Date</th>\n",
       "      <th>Timing</th>\n",
       "      <th>Batch size</th>\n",
       "      <th>Batch count</th>\n",
       "      <th>Batch</th>\n",
       "      <th>Topics</th>\n",
       "      <th>Grade</th>\n",
       "      <th>Registered Number</th>\n",
       "      <th>Pricing</th>\n",
       "      <th>Payment date</th>\n",
       "      <th>Sale by</th>\n",
       "    </tr>\n",
       "  </thead>\n",
       "  <tbody>\n",
       "    <tr>\n",
       "      <th>0</th>\n",
       "      <td>FAC_5001</td>\n",
       "      <td>16 April Thursday</td>\n",
       "      <td>11.15 am - 12 noon</td>\n",
       "      <td>group</td>\n",
       "      <td>9.0</td>\n",
       "      <td>trial I</td>\n",
       "      <td>Rocking with rhymes</td>\n",
       "      <td>2</td>\n",
       "      <td>9.111002e+11</td>\n",
       "      <td>999</td>\n",
       "      <td>18-03-2020 12:00:00 AM</td>\n",
       "      <td>NaN</td>\n",
       "    </tr>\n",
       "    <tr>\n",
       "      <th>1</th>\n",
       "      <td>FAC_5001</td>\n",
       "      <td>16 April Thursday</td>\n",
       "      <td>11.15 am - 12 noon</td>\n",
       "      <td>group</td>\n",
       "      <td>9.0</td>\n",
       "      <td>trial I</td>\n",
       "      <td>Rocking with rhymes</td>\n",
       "      <td>2</td>\n",
       "      <td>9.111002e+11</td>\n",
       "      <td>1999</td>\n",
       "      <td>19-03-2020 12:00:00 AM</td>\n",
       "      <td>SP_1001</td>\n",
       "    </tr>\n",
       "    <tr>\n",
       "      <th>2</th>\n",
       "      <td>FAC_5001</td>\n",
       "      <td>16 April Thursday</td>\n",
       "      <td>11.15 am - 12 noon</td>\n",
       "      <td>group</td>\n",
       "      <td>9.0</td>\n",
       "      <td>trial I</td>\n",
       "      <td>Rocking with rhymes</td>\n",
       "      <td>2</td>\n",
       "      <td>9.111002e+11</td>\n",
       "      <td>1999</td>\n",
       "      <td>20-03-2020 12:00:00 AM</td>\n",
       "      <td>SP_1001</td>\n",
       "    </tr>\n",
       "    <tr>\n",
       "      <th>3</th>\n",
       "      <td>FAC_5001</td>\n",
       "      <td>16 April Thursday</td>\n",
       "      <td>11.15 am - 12 noon</td>\n",
       "      <td>group</td>\n",
       "      <td>9.0</td>\n",
       "      <td>trial I</td>\n",
       "      <td>Rocking with rhymes</td>\n",
       "      <td>2</td>\n",
       "      <td>9.111002e+11</td>\n",
       "      <td>1999</td>\n",
       "      <td>24-03-2020 12:00:00 AM</td>\n",
       "      <td>SP_1005</td>\n",
       "    </tr>\n",
       "    <tr>\n",
       "      <th>4</th>\n",
       "      <td>FAC_5001</td>\n",
       "      <td>16 April Thursday</td>\n",
       "      <td>11.15 am - 12 noon</td>\n",
       "      <td>group</td>\n",
       "      <td>9.0</td>\n",
       "      <td>trial I</td>\n",
       "      <td>Rocking with rhymes</td>\n",
       "      <td>2</td>\n",
       "      <td>9.111002e+11</td>\n",
       "      <td>1999</td>\n",
       "      <td>24-03-2020 10:32:31 PM</td>\n",
       "      <td>SP_1005</td>\n",
       "    </tr>\n",
       "  </tbody>\n",
       "</table>\n",
       "</div>"
      ],
      "text/plain": [
       "  Trainer Name               Date              Timing Batch size   \\\n",
       "0     FAC_5001  16 April Thursday  11.15 am - 12 noon       group   \n",
       "1     FAC_5001  16 April Thursday  11.15 am - 12 noon       group   \n",
       "2     FAC_5001  16 April Thursday  11.15 am - 12 noon       group   \n",
       "3     FAC_5001  16 April Thursday  11.15 am - 12 noon       group   \n",
       "4     FAC_5001  16 April Thursday  11.15 am - 12 noon       group   \n",
       "\n",
       "   Batch count    Batch               Topics  Grade  Registered Number  \\\n",
       "0          9.0  trial I  Rocking with rhymes      2       9.111002e+11   \n",
       "1          9.0  trial I  Rocking with rhymes      2       9.111002e+11   \n",
       "2          9.0  trial I  Rocking with rhymes      2       9.111002e+11   \n",
       "3          9.0  trial I  Rocking with rhymes      2       9.111002e+11   \n",
       "4          9.0  trial I  Rocking with rhymes      2       9.111002e+11   \n",
       "\n",
       "   Pricing            Payment date  Sale by  \n",
       "0      999  18-03-2020 12:00:00 AM      NaN  \n",
       "1     1999  19-03-2020 12:00:00 AM  SP_1001  \n",
       "2     1999  20-03-2020 12:00:00 AM  SP_1001  \n",
       "3     1999  24-03-2020 12:00:00 AM  SP_1005  \n",
       "4     1999  24-03-2020 10:32:31 PM  SP_1005  "
      ]
     },
     "execution_count": 55,
     "metadata": {},
     "output_type": "execute_result"
    }
   ],
   "source": [
    "df_trainers_final3[:5]"
   ]
  },
  {
   "cell_type": "markdown",
   "metadata": {},
   "source": [
    "# 2. Sales conversion with respect to Time slot\n"
   ]
  },
  {
   "cell_type": "code",
   "execution_count": 56,
   "metadata": {},
   "outputs": [
    {
     "data": {
      "text/plain": [
       "Index(['Child Name', 'phone', 'email_id', 'school', 'grade', 'batch_preferred',\n",
       "       'source', 'Submitted At', 'Child Name', 'Registered Number',\n",
       "       'Registered Email ID', 'Payment date', 'Sale by', 'Grade', 'Pricing',\n",
       "       'Duration', 'Sessions preferred', 'Live session details'],\n",
       "      dtype='object')"
      ]
     },
     "execution_count": 56,
     "metadata": {},
     "output_type": "execute_result"
    }
   ],
   "source": [
    "df_sales.columns"
   ]
  },
  {
   "cell_type": "code",
   "execution_count": 57,
   "metadata": {},
   "outputs": [],
   "source": [
    "# columns we need \n",
    "\n",
    "df_sales_time_slot = df_sales[['Child Name', 'Duration','email_id', 'school', 'grade','Grade', 'Pricing','Payment date']]"
   ]
  },
  {
   "cell_type": "code",
   "execution_count": 58,
   "metadata": {},
   "outputs": [
    {
     "data": {
      "text/html": [
       "<div>\n",
       "<style scoped>\n",
       "    .dataframe tbody tr th:only-of-type {\n",
       "        vertical-align: middle;\n",
       "    }\n",
       "\n",
       "    .dataframe tbody tr th {\n",
       "        vertical-align: top;\n",
       "    }\n",
       "\n",
       "    .dataframe thead th {\n",
       "        text-align: right;\n",
       "    }\n",
       "</style>\n",
       "<table border=\"1\" class=\"dataframe\">\n",
       "  <thead>\n",
       "    <tr style=\"text-align: right;\">\n",
       "      <th></th>\n",
       "      <th>Child Name</th>\n",
       "      <th>Child Name</th>\n",
       "      <th>Duration</th>\n",
       "      <th>email_id</th>\n",
       "      <th>school</th>\n",
       "      <th>grade</th>\n",
       "      <th>Grade</th>\n",
       "      <th>Pricing</th>\n",
       "      <th>Payment date</th>\n",
       "    </tr>\n",
       "  </thead>\n",
       "  <tbody>\n",
       "    <tr>\n",
       "      <th>12</th>\n",
       "      <td>CH_30012</td>\n",
       "      <td>CH_31858</td>\n",
       "      <td>4G+1I</td>\n",
       "      <td>s2m_test_20013@tests2m.com</td>\n",
       "      <td>The SHRI ram UNIVERSAL SCHOOL jakh</td>\n",
       "      <td>Grade 1</td>\n",
       "      <td>2</td>\n",
       "      <td>999</td>\n",
       "      <td>18-03-2020 12:00:00 AM</td>\n",
       "    </tr>\n",
       "    <tr>\n",
       "      <th>15</th>\n",
       "      <td>CH_30015</td>\n",
       "      <td>CH_31860</td>\n",
       "      <td>12G</td>\n",
       "      <td>s2m_test_20016@tests2m.com</td>\n",
       "      <td>Indus Valley World School</td>\n",
       "      <td>Grade 2</td>\n",
       "      <td>4</td>\n",
       "      <td>1999</td>\n",
       "      <td>18-03-2020 12:00:00 AM</td>\n",
       "    </tr>\n",
       "    <tr>\n",
       "      <th>23</th>\n",
       "      <td>CH_30022</td>\n",
       "      <td>CH_31868</td>\n",
       "      <td>10G+2I</td>\n",
       "      <td>s2m_test_20023@tests2m.com</td>\n",
       "      <td>Sattva</td>\n",
       "      <td>Grade 2</td>\n",
       "      <td>1</td>\n",
       "      <td>1999</td>\n",
       "      <td>19-03-2020 12:00:00 AM</td>\n",
       "    </tr>\n",
       "    <tr>\n",
       "      <th>27</th>\n",
       "      <td>CH_30025</td>\n",
       "      <td>CH_31872</td>\n",
       "      <td>10G+2I</td>\n",
       "      <td>s2m_test_20026@tests2m.com</td>\n",
       "      <td>B.D. Memorial</td>\n",
       "      <td>Grade 4</td>\n",
       "      <td>2</td>\n",
       "      <td>1999</td>\n",
       "      <td>19-03-2020 12:00:00 AM</td>\n",
       "    </tr>\n",
       "    <tr>\n",
       "      <th>31</th>\n",
       "      <td>CH_30029</td>\n",
       "      <td>CH_31876</td>\n",
       "      <td>4G+1I</td>\n",
       "      <td>s2m_test_20030@tests2m.com</td>\n",
       "      <td>Brilliant national School</td>\n",
       "      <td>Grade 3</td>\n",
       "      <td>1</td>\n",
       "      <td>999</td>\n",
       "      <td>20-03-2020 12:00:00 AM</td>\n",
       "    </tr>\n",
       "  </tbody>\n",
       "</table>\n",
       "</div>"
      ],
      "text/plain": [
       "   Child Name Child Name Duration                    email_id  \\\n",
       "12   CH_30012   CH_31858    4G+1I  s2m_test_20013@tests2m.com   \n",
       "15   CH_30015   CH_31860      12G  s2m_test_20016@tests2m.com   \n",
       "23   CH_30022   CH_31868   10G+2I  s2m_test_20023@tests2m.com   \n",
       "27   CH_30025   CH_31872   10G+2I  s2m_test_20026@tests2m.com   \n",
       "31   CH_30029   CH_31876    4G+1I  s2m_test_20030@tests2m.com   \n",
       "\n",
       "                                school    grade Grade  Pricing  \\\n",
       "12  The SHRI ram UNIVERSAL SCHOOL jakh  Grade 1     2      999   \n",
       "15           Indus Valley World School  Grade 2     4     1999   \n",
       "23                              Sattva  Grade 2     1     1999   \n",
       "27                       B.D. Memorial  Grade 4     2     1999   \n",
       "31           Brilliant national School  Grade 3     1      999   \n",
       "\n",
       "              Payment date  \n",
       "12  18-03-2020 12:00:00 AM  \n",
       "15  18-03-2020 12:00:00 AM  \n",
       "23  19-03-2020 12:00:00 AM  \n",
       "27  19-03-2020 12:00:00 AM  \n",
       "31  20-03-2020 12:00:00 AM  "
      ]
     },
     "execution_count": 58,
     "metadata": {},
     "output_type": "execute_result"
    }
   ],
   "source": [
    "# This is the table which gives us sales on the basis of time slot.\n",
    "\n",
    "df_sales_time_slot[:5]"
   ]
  },
  {
   "cell_type": "code",
   "execution_count": 102,
   "metadata": {},
   "outputs": [
    {
     "data": {
      "text/plain": [
       "(array([0, 1, 2, 3, 4, 5, 6, 7, 8, 9]), <a list of 10 Text xticklabel objects>)"
      ]
     },
     "execution_count": 102,
     "metadata": {},
     "output_type": "execute_result"
    },
    {
     "data": {
      "image/png": "[encoded data removed]",
      "text/plain": [
       "<Figure size 720x360 with 1 Axes>"
      ]
     },
     "metadata": {},
     "output_type": "display_data"
    }
   ],
   "source": [
    "# Top 10 time slots that parents prefer.\n",
    "\n",
    "plt.figure(figsize=(10,5))\n",
    "df_sales_time_slot['Duration'].value_counts()[:10].plot(kind='bar',color='lightblue')\n",
    "plt.xticks(size=12)"
   ]
  },
  {
   "cell_type": "markdown",
   "metadata": {},
   "source": [
    "# 3. Sales conversion with respect to Topic"
   ]
  },
  {
   "cell_type": "code",
   "execution_count": 60,
   "metadata": {},
   "outputs": [],
   "source": [
    "df_sales_topic = df_trainers_final2[['Trainer Name', 'Date','Topics', 'Grade',  'Registered Number', 'Pricing', 'Duration']]"
   ]
  },
  {
   "cell_type": "code",
   "execution_count": 61,
   "metadata": {},
   "outputs": [
    {
     "data": {
      "text/html": [
       "<div>\n",
       "<style scoped>\n",
       "    .dataframe tbody tr th:only-of-type {\n",
       "        vertical-align: middle;\n",
       "    }\n",
       "\n",
       "    .dataframe tbody tr th {\n",
       "        vertical-align: top;\n",
       "    }\n",
       "\n",
       "    .dataframe thead th {\n",
       "        text-align: right;\n",
       "    }\n",
       "</style>\n",
       "<table border=\"1\" class=\"dataframe\">\n",
       "  <thead>\n",
       "    <tr style=\"text-align: right;\">\n",
       "      <th></th>\n",
       "      <th>Trainer Name</th>\n",
       "      <th>Date</th>\n",
       "      <th>Topics</th>\n",
       "      <th>Grade</th>\n",
       "      <th>Registered Number</th>\n",
       "      <th>Pricing</th>\n",
       "      <th>Duration</th>\n",
       "    </tr>\n",
       "  </thead>\n",
       "  <tbody>\n",
       "    <tr>\n",
       "      <th>0</th>\n",
       "      <td>FAC_5001</td>\n",
       "      <td>16 April Thursday</td>\n",
       "      <td>Rocking with rhymes</td>\n",
       "      <td>2</td>\n",
       "      <td>9.111002e+11</td>\n",
       "      <td>999</td>\n",
       "      <td>4G+1I</td>\n",
       "    </tr>\n",
       "    <tr>\n",
       "      <th>1</th>\n",
       "      <td>FAC_5001</td>\n",
       "      <td>16 April Thursday</td>\n",
       "      <td>Rocking with rhymes</td>\n",
       "      <td>2</td>\n",
       "      <td>9.111002e+11</td>\n",
       "      <td>1999</td>\n",
       "      <td>10G+2I</td>\n",
       "    </tr>\n",
       "  </tbody>\n",
       "</table>\n",
       "</div>"
      ],
      "text/plain": [
       "  Trainer Name               Date               Topics  Grade  \\\n",
       "0     FAC_5001  16 April Thursday  Rocking with rhymes      2   \n",
       "1     FAC_5001  16 April Thursday  Rocking with rhymes      2   \n",
       "\n",
       "   Registered Number  Pricing Duration  \n",
       "0       9.111002e+11      999    4G+1I  \n",
       "1       9.111002e+11     1999   10G+2I  "
      ]
     },
     "execution_count": 61,
     "metadata": {},
     "output_type": "execute_result"
    }
   ],
   "source": [
    "df_sales_topic[:2]"
   ]
  },
  {
   "cell_type": "code",
   "execution_count": 101,
   "metadata": {},
   "outputs": [
    {
     "data": {
      "text/plain": [
       "(array([0, 1, 2, 3, 4, 5, 6, 7, 8, 9]), <a list of 10 Text xticklabel objects>)"
      ]
     },
     "execution_count": 101,
     "metadata": {},
     "output_type": "execute_result"
    },
    {
     "data": {
      "image/png": "[encoded data removed]",
      "text/plain": [
       "<Figure size 720x360 with 1 Axes>"
      ]
     },
     "metadata": {},
     "output_type": "display_data"
    }
   ],
   "source": [
    "# Top 10 Topics trainers teach and for which parents paid subscription.\n",
    "\n",
    "plt.figure(figsize=(10,5))\n",
    "df_sales_topic['Topics'].value_counts()[:10].plot(kind='bar',color='red')\n",
    "plt.xticks(size=14)"
   ]
  },
  {
   "cell_type": "markdown",
   "metadata": {},
   "source": [
    "# 4. Sales conversion with respect to Source (Field available in Interested Users)\n"
   ]
  },
  {
   "cell_type": "code",
   "execution_count": 63,
   "metadata": {},
   "outputs": [],
   "source": [
    "df_sales_source = df_sales[['source','Registered Number', 'Payment date', 'Pricing',\n",
    "       'Duration']]"
   ]
  },
  {
   "cell_type": "code",
   "execution_count": 106,
   "metadata": {},
   "outputs": [
    {
     "data": {
      "text/plain": [
       "(array([0, 1, 2, 3, 4, 5, 6, 7, 8]), <a list of 9 Text xticklabel objects>)"
      ]
     },
     "execution_count": 106,
     "metadata": {},
     "output_type": "execute_result"
    },
    {
     "data": {
      "image/png": "[encoded data removed]",
      "text/plain": [
       "<Figure size 720x360 with 1 Axes>"
      ]
     },
     "metadata": {},
     "output_type": "display_data"
    }
   ],
   "source": [
    "# Top 10 sources from which sales were occured.\n",
    "\n",
    "plt.figure(figsize=(10,5))\n",
    "df_sales_source['source'].value_counts()[:10].plot(kind='bar',color='lightgreen')\n",
    "plt.xticks(size=14)"
   ]
  },
  {
   "cell_type": "markdown",
   "metadata": {},
   "source": [
    "# 5. Sales conversion wrt grade\n"
   ]
  },
  {
   "cell_type": "code",
   "execution_count": 65,
   "metadata": {},
   "outputs": [],
   "source": [
    "df_sales_grade = df_subscription_bought2"
   ]
  },
  {
   "cell_type": "code",
   "execution_count": 66,
   "metadata": {},
   "outputs": [
    {
     "data": {
      "text/plain": [
       "4          81\n",
       "3          67\n",
       "2          64\n",
       "1          44\n",
       "5           5\n",
       "Nursery     1\n",
       "Kg          1\n",
       "6           1\n",
       "Name: Grade, dtype: int64"
      ]
     },
     "execution_count": 66,
     "metadata": {},
     "output_type": "execute_result"
    }
   ],
   "source": [
    "df_sales_grade['Grade'].value_counts()"
   ]
  },
  {
   "cell_type": "code",
   "execution_count": 107,
   "metadata": {},
   "outputs": [
    {
     "data": {
      "text/plain": [
       "(array([0, 1, 2, 3, 4, 5, 6, 7]), <a list of 8 Text xticklabel objects>)"
      ]
     },
     "execution_count": 107,
     "metadata": {},
     "output_type": "execute_result"
    },
    {
     "data": {
      "image/png": "[encoded data removed]",
      "text/plain": [
       "<Figure size 720x360 with 1 Axes>"
      ]
     },
     "metadata": {},
     "output_type": "display_data"
    }
   ],
   "source": [
    "# Number of sales depending upon the Grade.\n",
    "\n",
    "plt.figure(figsize=(10,5))\n",
    "df_sales_grade['Grade'].value_counts().plot(kind='bar',color='purple')\n",
    "plt.xticks(size=14)"
   ]
  },
  {
   "cell_type": "markdown",
   "metadata": {},
   "source": [
    "# 6. Time taken for Sales conversion\n"
   ]
  },
  {
   "cell_type": "code",
   "execution_count": 68,
   "metadata": {},
   "outputs": [],
   "source": [
    "# Merging the booked users and subscription bougth table to know who all booked and purchased the package.\n",
    "\n",
    "df_sales_time_taken = df_booked_users.merge(df_subscription_bought2,on='Child Name')"
   ]
  },
  {
   "cell_type": "code",
   "execution_count": 69,
   "metadata": {},
   "outputs": [
    {
     "data": {
      "text/plain": [
       "(91, 21)"
      ]
     },
     "execution_count": 69,
     "metadata": {},
     "output_type": "execute_result"
    }
   ],
   "source": [
    "df_sales_time_taken.shape"
   ]
  },
  {
   "cell_type": "code",
   "execution_count": 70,
   "metadata": {},
   "outputs": [],
   "source": [
    "df_sales_time_taken2 = df_sales_time_taken.drop_duplicates('Child Name')"
   ]
  },
  {
   "cell_type": "code",
   "execution_count": 71,
   "metadata": {},
   "outputs": [
    {
     "data": {
      "text/plain": [
       "70"
      ]
     },
     "execution_count": 71,
     "metadata": {},
     "output_type": "execute_result"
    }
   ],
   "source": [
    "df_sales_time_taken2['Child Name'].nunique()"
   ]
  },
  {
   "cell_type": "code",
   "execution_count": 72,
   "metadata": {},
   "outputs": [],
   "source": [
    "df_sales_time_taken2 = df_sales_time_taken2[['Child Name','Opted Start Time', 'Payment date', 'Pricing']]"
   ]
  },
  {
   "cell_type": "code",
   "execution_count": 73,
   "metadata": {},
   "outputs": [
    {
     "data": {
      "text/html": [
       "<div>\n",
       "<style scoped>\n",
       "    .dataframe tbody tr th:only-of-type {\n",
       "        vertical-align: middle;\n",
       "    }\n",
       "\n",
       "    .dataframe tbody tr th {\n",
       "        vertical-align: top;\n",
       "    }\n",
       "\n",
       "    .dataframe thead th {\n",
       "        text-align: right;\n",
       "    }\n",
       "</style>\n",
       "<table border=\"1\" class=\"dataframe\">\n",
       "  <thead>\n",
       "    <tr style=\"text-align: right;\">\n",
       "      <th></th>\n",
       "      <th>Child Name</th>\n",
       "      <th>Opted Start Time</th>\n",
       "      <th>Payment date</th>\n",
       "      <th>Pricing</th>\n",
       "    </tr>\n",
       "  </thead>\n",
       "  <tbody>\n",
       "    <tr>\n",
       "      <th>0</th>\n",
       "      <td>CH_31112</td>\n",
       "      <td>16-04-2020 11:15:00</td>\n",
       "      <td>16-04-2020 2:40:23 PM</td>\n",
       "      <td>1999</td>\n",
       "    </tr>\n",
       "    <tr>\n",
       "      <th>4</th>\n",
       "      <td>CH_31475</td>\n",
       "      <td>16-04-2020 16:00:00</td>\n",
       "      <td>29-03-2020 12:00:00 AM</td>\n",
       "      <td>1999</td>\n",
       "    </tr>\n",
       "  </tbody>\n",
       "</table>\n",
       "</div>"
      ],
      "text/plain": [
       "  Child Name     Opted Start Time            Payment date  Pricing\n",
       "0   CH_31112  16-04-2020 11:15:00   16-04-2020 2:40:23 PM     1999\n",
       "4   CH_31475  16-04-2020 16:00:00  29-03-2020 12:00:00 AM     1999"
      ]
     },
     "execution_count": 73,
     "metadata": {},
     "output_type": "execute_result"
    }
   ],
   "source": [
    "df_sales_time_taken2.head(2)"
   ]
  },
  {
   "cell_type": "code",
   "execution_count": 74,
   "metadata": {},
   "outputs": [],
   "source": [
    "import time\n",
    "import datetime as dt"
   ]
  },
  {
   "cell_type": "code",
   "execution_count": 75,
   "metadata": {},
   "outputs": [
    {
     "data": {
      "text/plain": [
       "0    16-04-2020 11:15:00\n",
       "4    16-04-2020 16:00:00\n",
       "Name: Opted Start Time, dtype: object"
      ]
     },
     "execution_count": 75,
     "metadata": {},
     "output_type": "execute_result"
    }
   ],
   "source": [
    "df_sales_time_taken2['Opted Start Time'][:2]"
   ]
  },
  {
   "cell_type": "code",
   "execution_count": 76,
   "metadata": {},
   "outputs": [],
   "source": [
    "df_sales_time_taken2['Opted Start Time'] = pd.to_datetime(df_sales_time_taken2['Opted Start Time'])"
   ]
  },
  {
   "cell_type": "code",
   "execution_count": 77,
   "metadata": {},
   "outputs": [],
   "source": [
    "df_sales_time_taken2['Payment date'] = pd.to_datetime(df_sales_time_taken2['Payment date'])"
   ]
  },
  {
   "cell_type": "code",
   "execution_count": 78,
   "metadata": {},
   "outputs": [
    {
     "data": {
      "text/plain": [
       "Child Name                  object\n",
       "Opted Start Time    datetime64[ns]\n",
       "Payment date        datetime64[ns]\n",
       "Pricing                      int64\n",
       "dtype: object"
      ]
     },
     "execution_count": 78,
     "metadata": {},
     "output_type": "execute_result"
    }
   ],
   "source": [
    "df_sales_time_taken2.dtypes"
   ]
  },
  {
   "cell_type": "code",
   "execution_count": 79,
   "metadata": {},
   "outputs": [
    {
     "data": {
      "text/html": [
       "<div>\n",
       "<style scoped>\n",
       "    .dataframe tbody tr th:only-of-type {\n",
       "        vertical-align: middle;\n",
       "    }\n",
       "\n",
       "    .dataframe tbody tr th {\n",
       "        vertical-align: top;\n",
       "    }\n",
       "\n",
       "    .dataframe thead th {\n",
       "        text-align: right;\n",
       "    }\n",
       "</style>\n",
       "<table border=\"1\" class=\"dataframe\">\n",
       "  <thead>\n",
       "    <tr style=\"text-align: right;\">\n",
       "      <th></th>\n",
       "      <th>Child Name</th>\n",
       "      <th>Opted Start Time</th>\n",
       "      <th>Payment date</th>\n",
       "      <th>Pricing</th>\n",
       "    </tr>\n",
       "  </thead>\n",
       "  <tbody>\n",
       "    <tr>\n",
       "      <th>0</th>\n",
       "      <td>CH_31112</td>\n",
       "      <td>2020-04-16 11:15:00</td>\n",
       "      <td>2020-04-16 14:40:23</td>\n",
       "      <td>1999</td>\n",
       "    </tr>\n",
       "    <tr>\n",
       "      <th>4</th>\n",
       "      <td>CH_31475</td>\n",
       "      <td>2020-04-16 16:00:00</td>\n",
       "      <td>2020-03-29 00:00:00</td>\n",
       "      <td>1999</td>\n",
       "    </tr>\n",
       "  </tbody>\n",
       "</table>\n",
       "</div>"
      ],
      "text/plain": [
       "  Child Name    Opted Start Time        Payment date  Pricing\n",
       "0   CH_31112 2020-04-16 11:15:00 2020-04-16 14:40:23     1999\n",
       "4   CH_31475 2020-04-16 16:00:00 2020-03-29 00:00:00     1999"
      ]
     },
     "execution_count": 79,
     "metadata": {},
     "output_type": "execute_result"
    }
   ],
   "source": [
    "df_sales_time_taken2[:2]"
   ]
  },
  {
   "cell_type": "code",
   "execution_count": 80,
   "metadata": {},
   "outputs": [
    {
     "data": {
      "text/plain": [
       "Timedelta('-19 days +08:00:00')"
      ]
     },
     "execution_count": 80,
     "metadata": {},
     "output_type": "execute_result"
    }
   ],
   "source": [
    "(df_sales_time_taken2['Payment date'].loc[4] - df_sales_time_taken2['Opted Start Time'].loc[4])"
   ]
  },
  {
   "cell_type": "code",
   "execution_count": 81,
   "metadata": {},
   "outputs": [],
   "source": [
    "df_sales_time_taken2['Time difference'] = df_sales_time_taken2['Payment date'] - df_sales_time_taken2['Opted Start Time']"
   ]
  },
  {
   "cell_type": "code",
   "execution_count": 82,
   "metadata": {},
   "outputs": [
    {
     "data": {
      "text/html": [
       "<div>\n",
       "<style scoped>\n",
       "    .dataframe tbody tr th:only-of-type {\n",
       "        vertical-align: middle;\n",
       "    }\n",
       "\n",
       "    .dataframe tbody tr th {\n",
       "        vertical-align: top;\n",
       "    }\n",
       "\n",
       "    .dataframe thead th {\n",
       "        text-align: right;\n",
       "    }\n",
       "</style>\n",
       "<table border=\"1\" class=\"dataframe\">\n",
       "  <thead>\n",
       "    <tr style=\"text-align: right;\">\n",
       "      <th></th>\n",
       "      <th>Child Name</th>\n",
       "      <th>Opted Start Time</th>\n",
       "      <th>Payment date</th>\n",
       "      <th>Pricing</th>\n",
       "      <th>Time difference</th>\n",
       "    </tr>\n",
       "  </thead>\n",
       "  <tbody>\n",
       "    <tr>\n",
       "      <th>0</th>\n",
       "      <td>CH_31112</td>\n",
       "      <td>2020-04-16 11:15:00</td>\n",
       "      <td>2020-04-16 14:40:23</td>\n",
       "      <td>1999</td>\n",
       "      <td>0 days 03:25:23</td>\n",
       "    </tr>\n",
       "    <tr>\n",
       "      <th>4</th>\n",
       "      <td>CH_31475</td>\n",
       "      <td>2020-04-16 16:00:00</td>\n",
       "      <td>2020-03-29 00:00:00</td>\n",
       "      <td>1999</td>\n",
       "      <td>-19 days +08:00:00</td>\n",
       "    </tr>\n",
       "    <tr>\n",
       "      <th>5</th>\n",
       "      <td>CH_31479</td>\n",
       "      <td>2020-04-16 16:00:00</td>\n",
       "      <td>2020-12-04 21:18:44</td>\n",
       "      <td>1999</td>\n",
       "      <td>232 days 05:18:44</td>\n",
       "    </tr>\n",
       "    <tr>\n",
       "      <th>6</th>\n",
       "      <td>CH_31482</td>\n",
       "      <td>2020-04-16 16:00:00</td>\n",
       "      <td>2020-04-17 11:51:16</td>\n",
       "      <td>1999</td>\n",
       "      <td>0 days 19:51:16</td>\n",
       "    </tr>\n",
       "    <tr>\n",
       "      <th>7</th>\n",
       "      <td>CH_31515</td>\n",
       "      <td>2020-04-16 18:15:00</td>\n",
       "      <td>2020-04-18 10:59:59</td>\n",
       "      <td>1999</td>\n",
       "      <td>1 days 16:44:59</td>\n",
       "    </tr>\n",
       "    <tr>\n",
       "      <th>8</th>\n",
       "      <td>CH_31524</td>\n",
       "      <td>2020-04-16 18:15:00</td>\n",
       "      <td>2020-04-18 18:18:01</td>\n",
       "      <td>1999</td>\n",
       "      <td>2 days 00:03:01</td>\n",
       "    </tr>\n",
       "    <tr>\n",
       "      <th>9</th>\n",
       "      <td>CH_30793</td>\n",
       "      <td>2020-04-16 18:15:00</td>\n",
       "      <td>2020-03-31 07:26:00</td>\n",
       "      <td>999</td>\n",
       "      <td>-17 days +13:11:00</td>\n",
       "    </tr>\n",
       "    <tr>\n",
       "      <th>13</th>\n",
       "      <td>CH_31533</td>\n",
       "      <td>2020-04-16 18:15:00</td>\n",
       "      <td>2020-04-19 18:24:00</td>\n",
       "      <td>1999</td>\n",
       "      <td>3 days 00:09:00</td>\n",
       "    </tr>\n",
       "    <tr>\n",
       "      <th>15</th>\n",
       "      <td>CH_30040</td>\n",
       "      <td>2020-04-16 18:15:00</td>\n",
       "      <td>2020-08-04 17:01:20</td>\n",
       "      <td>999</td>\n",
       "      <td>109 days 22:46:20</td>\n",
       "    </tr>\n",
       "    <tr>\n",
       "      <th>16</th>\n",
       "      <td>CH_31542</td>\n",
       "      <td>2020-04-16 18:15:00</td>\n",
       "      <td>2020-04-20 19:22:52</td>\n",
       "      <td>1999</td>\n",
       "      <td>4 days 01:07:52</td>\n",
       "    </tr>\n",
       "  </tbody>\n",
       "</table>\n",
       "</div>"
      ],
      "text/plain": [
       "   Child Name    Opted Start Time        Payment date  Pricing  \\\n",
       "0    CH_31112 2020-04-16 11:15:00 2020-04-16 14:40:23     1999   \n",
       "4    CH_31475 2020-04-16 16:00:00 2020-03-29 00:00:00     1999   \n",
       "5    CH_31479 2020-04-16 16:00:00 2020-12-04 21:18:44     1999   \n",
       "6    CH_31482 2020-04-16 16:00:00 2020-04-17 11:51:16     1999   \n",
       "7    CH_31515 2020-04-16 18:15:00 2020-04-18 10:59:59     1999   \n",
       "8    CH_31524 2020-04-16 18:15:00 2020-04-18 18:18:01     1999   \n",
       "9    CH_30793 2020-04-16 18:15:00 2020-03-31 07:26:00      999   \n",
       "13   CH_31533 2020-04-16 18:15:00 2020-04-19 18:24:00     1999   \n",
       "15   CH_30040 2020-04-16 18:15:00 2020-08-04 17:01:20      999   \n",
       "16   CH_31542 2020-04-16 18:15:00 2020-04-20 19:22:52     1999   \n",
       "\n",
       "      Time difference  \n",
       "0     0 days 03:25:23  \n",
       "4  -19 days +08:00:00  \n",
       "5   232 days 05:18:44  \n",
       "6     0 days 19:51:16  \n",
       "7     1 days 16:44:59  \n",
       "8     2 days 00:03:01  \n",
       "9  -17 days +13:11:00  \n",
       "13    3 days 00:09:00  \n",
       "15  109 days 22:46:20  \n",
       "16    4 days 01:07:52  "
      ]
     },
     "execution_count": 82,
     "metadata": {},
     "output_type": "execute_result"
    }
   ],
   "source": [
    "# The table we need.\n",
    "\n",
    "df_sales_time_taken2[:10]"
   ]
  },
  {
   "cell_type": "markdown",
   "metadata": {},
   "source": [
    "# 7. Time slot – attendance %\n"
   ]
  },
  {
   "cell_type": "code",
   "execution_count": 83,
   "metadata": {},
   "outputs": [],
   "source": [
    "df_sales_attendance  = df_booked_users.merge(df_subscription_bought2,on='Child Name')"
   ]
  },
  {
   "cell_type": "code",
   "execution_count": 84,
   "metadata": {},
   "outputs": [
    {
     "data": {
      "text/plain": [
       "1"
      ]
     },
     "execution_count": 84,
     "metadata": {},
     "output_type": "execute_result"
    }
   ],
   "source": [
    "df_sales_attendance['Attendance'].isna().sum()\n",
    "\n",
    "# For attendance colum we cannot fill null values bacause it consist of two values only i.e. present or absent \n",
    "# and for null values we cannot assume anything. Therefore removing null values."
   ]
  },
  {
   "cell_type": "code",
   "execution_count": 85,
   "metadata": {},
   "outputs": [],
   "source": [
    "df_sales_attendance.columns\n",
    "\n",
    "df_sales_attendance = df_sales_attendance[['Child Name', 'Grade_x', 'Attendance', 'Payment date','Pricing']]"
   ]
  },
  {
   "cell_type": "code",
   "execution_count": 86,
   "metadata": {},
   "outputs": [],
   "source": [
    "df_sales_attendance = df_sales_attendance[pd.notnull(df_sales_attendance['Attendance'])]"
   ]
  },
  {
   "cell_type": "code",
   "execution_count": 87,
   "metadata": {},
   "outputs": [
    {
     "data": {
      "text/plain": [
       "(90, 5)"
      ]
     },
     "execution_count": 87,
     "metadata": {},
     "output_type": "execute_result"
    }
   ],
   "source": [
    "df_sales_attendance.shape"
   ]
  },
  {
   "cell_type": "code",
   "execution_count": 88,
   "metadata": {},
   "outputs": [],
   "source": [
    "df_sales_attendance['Attendance'].replace({'Present ':'Present'},inplace=True)"
   ]
  },
  {
   "cell_type": "code",
   "execution_count": 108,
   "metadata": {},
   "outputs": [
    {
     "data": {
      "text/plain": [
       "(array([0, 1, 2]), <a list of 3 Text xticklabel objects>)"
      ]
     },
     "execution_count": 108,
     "metadata": {},
     "output_type": "execute_result"
    },
    {
     "data": {
      "image/png": "[encoded data removed]",
      "text/plain": [
       "<Figure size 720x360 with 1 Axes>"
      ]
     },
     "metadata": {},
     "output_type": "display_data"
    }
   ],
   "source": [
    "plt.figure(figsize=(10,5))\n",
    "df_sales_attendance['Attendance'].value_counts().plot(kind='bar',color='pink')\n",
    "plt.xticks(size=14)"
   ]
  },
  {
   "cell_type": "markdown",
   "metadata": {},
   "source": [
    "#  Final Tables for required output."
   ]
  },
  {
   "cell_type": "code",
   "execution_count": 90,
   "metadata": {},
   "outputs": [
    {
     "data": {
      "text/html": [
       "<div>\n",
       "<style scoped>\n",
       "    .dataframe tbody tr th:only-of-type {\n",
       "        vertical-align: middle;\n",
       "    }\n",
       "\n",
       "    .dataframe tbody tr th {\n",
       "        vertical-align: top;\n",
       "    }\n",
       "\n",
       "    .dataframe thead th {\n",
       "        text-align: right;\n",
       "    }\n",
       "</style>\n",
       "<table border=\"1\" class=\"dataframe\">\n",
       "  <thead>\n",
       "    <tr style=\"text-align: right;\">\n",
       "      <th></th>\n",
       "      <th>Trainer Name</th>\n",
       "      <th>Date</th>\n",
       "      <th>Timing</th>\n",
       "      <th>Batch size</th>\n",
       "      <th>Batch count</th>\n",
       "      <th>Batch</th>\n",
       "      <th>Topics</th>\n",
       "      <th>Grade</th>\n",
       "      <th>Registered Number</th>\n",
       "      <th>Pricing</th>\n",
       "      <th>Payment date</th>\n",
       "      <th>Sale by</th>\n",
       "    </tr>\n",
       "  </thead>\n",
       "  <tbody>\n",
       "    <tr>\n",
       "      <th>0</th>\n",
       "      <td>FAC_5001</td>\n",
       "      <td>16 April Thursday</td>\n",
       "      <td>11.15 am - 12 noon</td>\n",
       "      <td>group</td>\n",
       "      <td>9.0</td>\n",
       "      <td>trial I</td>\n",
       "      <td>Rocking with rhymes</td>\n",
       "      <td>2</td>\n",
       "      <td>9.111002e+11</td>\n",
       "      <td>999</td>\n",
       "      <td>18-03-2020 12:00:00 AM</td>\n",
       "      <td>NaN</td>\n",
       "    </tr>\n",
       "    <tr>\n",
       "      <th>1</th>\n",
       "      <td>FAC_5001</td>\n",
       "      <td>16 April Thursday</td>\n",
       "      <td>11.15 am - 12 noon</td>\n",
       "      <td>group</td>\n",
       "      <td>9.0</td>\n",
       "      <td>trial I</td>\n",
       "      <td>Rocking with rhymes</td>\n",
       "      <td>2</td>\n",
       "      <td>9.111002e+11</td>\n",
       "      <td>1999</td>\n",
       "      <td>19-03-2020 12:00:00 AM</td>\n",
       "      <td>SP_1001</td>\n",
       "    </tr>\n",
       "  </tbody>\n",
       "</table>\n",
       "</div>"
      ],
      "text/plain": [
       "  Trainer Name               Date              Timing Batch size   \\\n",
       "0     FAC_5001  16 April Thursday  11.15 am - 12 noon       group   \n",
       "1     FAC_5001  16 April Thursday  11.15 am - 12 noon       group   \n",
       "\n",
       "   Batch count    Batch               Topics  Grade  Registered Number  \\\n",
       "0          9.0  trial I  Rocking with rhymes      2       9.111002e+11   \n",
       "1          9.0  trial I  Rocking with rhymes      2       9.111002e+11   \n",
       "\n",
       "   Pricing            Payment date  Sale by  \n",
       "0      999  18-03-2020 12:00:00 AM      NaN  \n",
       "1     1999  19-03-2020 12:00:00 AM  SP_1001  "
      ]
     },
     "execution_count": 90,
     "metadata": {},
     "output_type": "execute_result"
    }
   ],
   "source": [
    "# 1. Sales conversion with respect to Trainers\n",
    "\n",
    "df_trainers_final3.head(2)"
   ]
  },
  {
   "cell_type": "code",
   "execution_count": 91,
   "metadata": {},
   "outputs": [
    {
     "data": {
      "text/html": [
       "<div>\n",
       "<style scoped>\n",
       "    .dataframe tbody tr th:only-of-type {\n",
       "        vertical-align: middle;\n",
       "    }\n",
       "\n",
       "    .dataframe tbody tr th {\n",
       "        vertical-align: top;\n",
       "    }\n",
       "\n",
       "    .dataframe thead th {\n",
       "        text-align: right;\n",
       "    }\n",
       "</style>\n",
       "<table border=\"1\" class=\"dataframe\">\n",
       "  <thead>\n",
       "    <tr style=\"text-align: right;\">\n",
       "      <th></th>\n",
       "      <th>Child Name</th>\n",
       "      <th>Child Name</th>\n",
       "      <th>Duration</th>\n",
       "      <th>email_id</th>\n",
       "      <th>school</th>\n",
       "      <th>grade</th>\n",
       "      <th>Grade</th>\n",
       "      <th>Pricing</th>\n",
       "      <th>Payment date</th>\n",
       "    </tr>\n",
       "  </thead>\n",
       "  <tbody>\n",
       "    <tr>\n",
       "      <th>12</th>\n",
       "      <td>CH_30012</td>\n",
       "      <td>CH_31858</td>\n",
       "      <td>4G+1I</td>\n",
       "      <td>s2m_test_20013@tests2m.com</td>\n",
       "      <td>The SHRI ram UNIVERSAL SCHOOL jakh</td>\n",
       "      <td>Grade 1</td>\n",
       "      <td>2</td>\n",
       "      <td>999</td>\n",
       "      <td>18-03-2020 12:00:00 AM</td>\n",
       "    </tr>\n",
       "    <tr>\n",
       "      <th>15</th>\n",
       "      <td>CH_30015</td>\n",
       "      <td>CH_31860</td>\n",
       "      <td>12G</td>\n",
       "      <td>s2m_test_20016@tests2m.com</td>\n",
       "      <td>Indus Valley World School</td>\n",
       "      <td>Grade 2</td>\n",
       "      <td>4</td>\n",
       "      <td>1999</td>\n",
       "      <td>18-03-2020 12:00:00 AM</td>\n",
       "    </tr>\n",
       "  </tbody>\n",
       "</table>\n",
       "</div>"
      ],
      "text/plain": [
       "   Child Name Child Name Duration                    email_id  \\\n",
       "12   CH_30012   CH_31858    4G+1I  s2m_test_20013@tests2m.com   \n",
       "15   CH_30015   CH_31860      12G  s2m_test_20016@tests2m.com   \n",
       "\n",
       "                                school    grade Grade  Pricing  \\\n",
       "12  The SHRI ram UNIVERSAL SCHOOL jakh  Grade 1     2      999   \n",
       "15           Indus Valley World School  Grade 2     4     1999   \n",
       "\n",
       "              Payment date  \n",
       "12  18-03-2020 12:00:00 AM  \n",
       "15  18-03-2020 12:00:00 AM  "
      ]
     },
     "execution_count": 91,
     "metadata": {},
     "output_type": "execute_result"
    }
   ],
   "source": [
    "# 2. Sales conversion with respect to Time slot\n",
    "\n",
    "df_sales_time_slot.head(2)"
   ]
  },
  {
   "cell_type": "code",
   "execution_count": 92,
   "metadata": {},
   "outputs": [
    {
     "data": {
      "text/html": [
       "<div>\n",
       "<style scoped>\n",
       "    .dataframe tbody tr th:only-of-type {\n",
       "        vertical-align: middle;\n",
       "    }\n",
       "\n",
       "    .dataframe tbody tr th {\n",
       "        vertical-align: top;\n",
       "    }\n",
       "\n",
       "    .dataframe thead th {\n",
       "        text-align: right;\n",
       "    }\n",
       "</style>\n",
       "<table border=\"1\" class=\"dataframe\">\n",
       "  <thead>\n",
       "    <tr style=\"text-align: right;\">\n",
       "      <th></th>\n",
       "      <th>Trainer Name</th>\n",
       "      <th>Date</th>\n",
       "      <th>Topics</th>\n",
       "      <th>Grade</th>\n",
       "      <th>Registered Number</th>\n",
       "      <th>Pricing</th>\n",
       "      <th>Duration</th>\n",
       "    </tr>\n",
       "  </thead>\n",
       "  <tbody>\n",
       "    <tr>\n",
       "      <th>0</th>\n",
       "      <td>FAC_5001</td>\n",
       "      <td>16 April Thursday</td>\n",
       "      <td>Rocking with rhymes</td>\n",
       "      <td>2</td>\n",
       "      <td>9.111002e+11</td>\n",
       "      <td>999</td>\n",
       "      <td>4G+1I</td>\n",
       "    </tr>\n",
       "    <tr>\n",
       "      <th>1</th>\n",
       "      <td>FAC_5001</td>\n",
       "      <td>16 April Thursday</td>\n",
       "      <td>Rocking with rhymes</td>\n",
       "      <td>2</td>\n",
       "      <td>9.111002e+11</td>\n",
       "      <td>1999</td>\n",
       "      <td>10G+2I</td>\n",
       "    </tr>\n",
       "  </tbody>\n",
       "</table>\n",
       "</div>"
      ],
      "text/plain": [
       "  Trainer Name               Date               Topics  Grade  \\\n",
       "0     FAC_5001  16 April Thursday  Rocking with rhymes      2   \n",
       "1     FAC_5001  16 April Thursday  Rocking with rhymes      2   \n",
       "\n",
       "   Registered Number  Pricing Duration  \n",
       "0       9.111002e+11      999    4G+1I  \n",
       "1       9.111002e+11     1999   10G+2I  "
      ]
     },
     "execution_count": 92,
     "metadata": {},
     "output_type": "execute_result"
    }
   ],
   "source": [
    "# 3. Sales conversion with respect to Topic\n",
    "\n",
    "df_sales_topic[:2]"
   ]
  },
  {
   "cell_type": "code",
   "execution_count": 93,
   "metadata": {},
   "outputs": [
    {
     "data": {
      "text/html": [
       "<div>\n",
       "<style scoped>\n",
       "    .dataframe tbody tr th:only-of-type {\n",
       "        vertical-align: middle;\n",
       "    }\n",
       "\n",
       "    .dataframe tbody tr th {\n",
       "        vertical-align: top;\n",
       "    }\n",
       "\n",
       "    .dataframe thead th {\n",
       "        text-align: right;\n",
       "    }\n",
       "</style>\n",
       "<table border=\"1\" class=\"dataframe\">\n",
       "  <thead>\n",
       "    <tr style=\"text-align: right;\">\n",
       "      <th></th>\n",
       "      <th>source</th>\n",
       "      <th>Registered Number</th>\n",
       "      <th>Payment date</th>\n",
       "      <th>Pricing</th>\n",
       "      <th>Duration</th>\n",
       "    </tr>\n",
       "  </thead>\n",
       "  <tbody>\n",
       "    <tr>\n",
       "      <th>12</th>\n",
       "      <td>lastchance</td>\n",
       "      <td>9.111002e+11</td>\n",
       "      <td>18-03-2020 12:00:00 AM</td>\n",
       "      <td>999</td>\n",
       "      <td>4G+1I</td>\n",
       "    </tr>\n",
       "    <tr>\n",
       "      <th>15</th>\n",
       "      <td>lastchance</td>\n",
       "      <td>9.111002e+11</td>\n",
       "      <td>18-03-2020 12:00:00 AM</td>\n",
       "      <td>1999</td>\n",
       "      <td>12G</td>\n",
       "    </tr>\n",
       "  </tbody>\n",
       "</table>\n",
       "</div>"
      ],
      "text/plain": [
       "        source  Registered Number            Payment date  Pricing Duration\n",
       "12  lastchance       9.111002e+11  18-03-2020 12:00:00 AM      999    4G+1I\n",
       "15  lastchance       9.111002e+11  18-03-2020 12:00:00 AM     1999      12G"
      ]
     },
     "execution_count": 93,
     "metadata": {},
     "output_type": "execute_result"
    }
   ],
   "source": [
    "# 4. Sales conversion with respect to Source (Field available in Interested Users)\n",
    "\n",
    "df_sales_source[:2]"
   ]
  },
  {
   "cell_type": "code",
   "execution_count": 94,
   "metadata": {},
   "outputs": [
    {
     "data": {
      "text/html": [
       "<div>\n",
       "<style scoped>\n",
       "    .dataframe tbody tr th:only-of-type {\n",
       "        vertical-align: middle;\n",
       "    }\n",
       "\n",
       "    .dataframe tbody tr th {\n",
       "        vertical-align: top;\n",
       "    }\n",
       "\n",
       "    .dataframe thead th {\n",
       "        text-align: right;\n",
       "    }\n",
       "</style>\n",
       "<table border=\"1\" class=\"dataframe\">\n",
       "  <thead>\n",
       "    <tr style=\"text-align: right;\">\n",
       "      <th></th>\n",
       "      <th>Child Name</th>\n",
       "      <th>Registered Number</th>\n",
       "      <th>Registered Email ID</th>\n",
       "      <th>Payment date</th>\n",
       "      <th>Sale by</th>\n",
       "      <th>Grade</th>\n",
       "      <th>Pricing</th>\n",
       "      <th>Duration</th>\n",
       "      <th>Sessions preferred</th>\n",
       "      <th>Live session details</th>\n",
       "    </tr>\n",
       "  </thead>\n",
       "  <tbody>\n",
       "    <tr>\n",
       "      <th>12</th>\n",
       "      <td>CH_31858</td>\n",
       "      <td>9.111002e+11</td>\n",
       "      <td>s2m_test_21900@tests2m.com</td>\n",
       "      <td>18-03-2020 12:00:00 AM</td>\n",
       "      <td>NaN</td>\n",
       "      <td>2</td>\n",
       "      <td>999</td>\n",
       "      <td>4G+1I</td>\n",
       "      <td>NaN</td>\n",
       "      <td>Live - Upsell (Larger plan)</td>\n",
       "    </tr>\n",
       "    <tr>\n",
       "      <th>15</th>\n",
       "      <td>CH_31860</td>\n",
       "      <td>9.111002e+11</td>\n",
       "      <td>s2m_test_21903@tests2m.com</td>\n",
       "      <td>18-03-2020 12:00:00 AM</td>\n",
       "      <td>NaN</td>\n",
       "      <td>4</td>\n",
       "      <td>1999</td>\n",
       "      <td>12G</td>\n",
       "      <td>NaN</td>\n",
       "      <td>Live - Upsell (Larger plan)</td>\n",
       "    </tr>\n",
       "  </tbody>\n",
       "</table>\n",
       "</div>"
      ],
      "text/plain": [
       "   Child Name  Registered Number         Registered Email ID  \\\n",
       "12   CH_31858       9.111002e+11  s2m_test_21900@tests2m.com   \n",
       "15   CH_31860       9.111002e+11  s2m_test_21903@tests2m.com   \n",
       "\n",
       "              Payment date Sale by Grade  Pricing Duration Sessions preferred  \\\n",
       "12  18-03-2020 12:00:00 AM     NaN     2      999    4G+1I                NaN   \n",
       "15  18-03-2020 12:00:00 AM     NaN     4     1999      12G                NaN   \n",
       "\n",
       "           Live session details  \n",
       "12  Live - Upsell (Larger plan)  \n",
       "15  Live - Upsell (Larger plan)  "
      ]
     },
     "execution_count": 94,
     "metadata": {},
     "output_type": "execute_result"
    }
   ],
   "source": [
    "# 5. Sales conversion wrt grade\n",
    "\n",
    "df_sales_grade[:2]"
   ]
  },
  {
   "cell_type": "code",
   "execution_count": 95,
   "metadata": {},
   "outputs": [
    {
     "data": {
      "text/html": [
       "<div>\n",
       "<style scoped>\n",
       "    .dataframe tbody tr th:only-of-type {\n",
       "        vertical-align: middle;\n",
       "    }\n",
       "\n",
       "    .dataframe tbody tr th {\n",
       "        vertical-align: top;\n",
       "    }\n",
       "\n",
       "    .dataframe thead th {\n",
       "        text-align: right;\n",
       "    }\n",
       "</style>\n",
       "<table border=\"1\" class=\"dataframe\">\n",
       "  <thead>\n",
       "    <tr style=\"text-align: right;\">\n",
       "      <th></th>\n",
       "      <th>Child Name</th>\n",
       "      <th>Opted Start Time</th>\n",
       "      <th>Payment date</th>\n",
       "      <th>Pricing</th>\n",
       "      <th>Time difference</th>\n",
       "    </tr>\n",
       "  </thead>\n",
       "  <tbody>\n",
       "    <tr>\n",
       "      <th>0</th>\n",
       "      <td>CH_31112</td>\n",
       "      <td>2020-04-16 11:15:00</td>\n",
       "      <td>2020-04-16 14:40:23</td>\n",
       "      <td>1999</td>\n",
       "      <td>0 days 03:25:23</td>\n",
       "    </tr>\n",
       "    <tr>\n",
       "      <th>4</th>\n",
       "      <td>CH_31475</td>\n",
       "      <td>2020-04-16 16:00:00</td>\n",
       "      <td>2020-03-29 00:00:00</td>\n",
       "      <td>1999</td>\n",
       "      <td>-19 days +08:00:00</td>\n",
       "    </tr>\n",
       "  </tbody>\n",
       "</table>\n",
       "</div>"
      ],
      "text/plain": [
       "  Child Name    Opted Start Time        Payment date  Pricing  \\\n",
       "0   CH_31112 2020-04-16 11:15:00 2020-04-16 14:40:23     1999   \n",
       "4   CH_31475 2020-04-16 16:00:00 2020-03-29 00:00:00     1999   \n",
       "\n",
       "     Time difference  \n",
       "0    0 days 03:25:23  \n",
       "4 -19 days +08:00:00  "
      ]
     },
     "execution_count": 95,
     "metadata": {},
     "output_type": "execute_result"
    }
   ],
   "source": [
    "# 6. Time taken for Sales conversion\n",
    "\n",
    "df_sales_time_taken2[:2]"
   ]
  },
  {
   "cell_type": "code",
   "execution_count": 96,
   "metadata": {},
   "outputs": [
    {
     "data": {
      "text/html": [
       "<div>\n",
       "<style scoped>\n",
       "    .dataframe tbody tr th:only-of-type {\n",
       "        vertical-align: middle;\n",
       "    }\n",
       "\n",
       "    .dataframe tbody tr th {\n",
       "        vertical-align: top;\n",
       "    }\n",
       "\n",
       "    .dataframe thead th {\n",
       "        text-align: right;\n",
       "    }\n",
       "</style>\n",
       "<table border=\"1\" class=\"dataframe\">\n",
       "  <thead>\n",
       "    <tr style=\"text-align: right;\">\n",
       "      <th></th>\n",
       "      <th>Child Name</th>\n",
       "      <th>Grade_x</th>\n",
       "      <th>Attendance</th>\n",
       "      <th>Payment date</th>\n",
       "      <th>Pricing</th>\n",
       "    </tr>\n",
       "  </thead>\n",
       "  <tbody>\n",
       "    <tr>\n",
       "      <th>0</th>\n",
       "      <td>CH_31112</td>\n",
       "      <td>Grade 1</td>\n",
       "      <td>Present</td>\n",
       "      <td>16-04-2020 2:40:23 PM</td>\n",
       "      <td>1999</td>\n",
       "    </tr>\n",
       "    <tr>\n",
       "      <th>1</th>\n",
       "      <td>CH_31112</td>\n",
       "      <td>Grade 4</td>\n",
       "      <td>Present</td>\n",
       "      <td>16-04-2020 2:40:23 PM</td>\n",
       "      <td>1999</td>\n",
       "    </tr>\n",
       "  </tbody>\n",
       "</table>\n",
       "</div>"
      ],
      "text/plain": [
       "  Child Name  Grade_x Attendance           Payment date  Pricing\n",
       "0   CH_31112  Grade 1    Present  16-04-2020 2:40:23 PM     1999\n",
       "1   CH_31112  Grade 4    Present  16-04-2020 2:40:23 PM     1999"
      ]
     },
     "execution_count": 96,
     "metadata": {},
     "output_type": "execute_result"
    }
   ],
   "source": [
    "# 7. Time slot – attendance %\n",
    "\n",
    "df_sales_attendance[:2]"
   ]
  },
  {
   "cell_type": "code",
   "execution_count": null,
   "metadata": {},
   "outputs": [],
   "source": []
  },
  {
   "cell_type": "code",
   "execution_count": null,
   "metadata": {},
   "outputs": [],
   "source": []
  }
 ],
 "metadata": {
  "kernelspec": {
   "display_name": "Python 3",
   "language": "python",
   "name": "python3"
  },
  "language_info": {
   "codemirror_mode": {
    "name": "ipython",
    "version": 3
   },
   "file_extension": ".py",
   "mimetype": "text/x-python",
   "name": "python",
   "nbconvert_exporter": "python",
   "pygments_lexer": "ipython3",
   "version": "3.7.1"
  }
 },
 "nbformat": 4,
 "nbformat_minor": 2
}
